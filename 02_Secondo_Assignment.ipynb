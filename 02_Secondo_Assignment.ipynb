{
  "nbformat": 4,
  "nbformat_minor": 0,
  "metadata": {
    "colab": {
      "name": "DSIME02.ipynb",
      "provenance": [],
      "collapsed_sections": [
        "OYakGh3JN9AS",
        "oVa6PrNEPG11",
        "ITP8IUATRX4s",
        "Dl2qpVEtSYBZ",
        "yQpV10neU7Pa"
      ],
      "authorship_tag": "ABX9TyPAnXqigye8ikPRkVdds3U/",
      "include_colab_link": true
    },
    "kernelspec": {
      "name": "python3",
      "display_name": "Python 3"
    },
    "language_info": {
      "name": "python"
    }
  },
  "cells": [
    {
      "cell_type": "markdown",
      "metadata": {
        "id": "view-in-github",
        "colab_type": "text"
      },
      "source": [
        "<a href=\"https://colab.research.google.com/github/stemarzo/DISME/blob/main/02_Secondo_Assignment.ipynb\" target=\"_parent\"><img src=\"https://colab.research.google.com/assets/colab-badge.svg\" alt=\"Open In Colab\"/></a>"
      ]
    },
    {
      "cell_type": "markdown",
      "source": [
        "#PRIMO ASSIGNMENT: CLASSIFICATORE SEGNALI AUDIO"
      ],
      "metadata": {
        "id": "F64p1GNCHGYG"
      }
    },
    {
      "cell_type": "code",
      "metadata": {
        "id": "TFk7DI4uAVhN"
      },
      "source": [
        "import os\n",
        "import numpy as np\n",
        "from time import time\n",
        "from scipy.io import wavfile as wav\n",
        "\n",
        "import matplotlib.pyplot as plt\n",
        "import IPython.display as ipd\n",
        "\n",
        "# Classification tools\n",
        "from sklearn.svm import SVC\n",
        "from sklearn.model_selection import train_test_split, GridSearchCV\n",
        "from sklearn.metrics import classification_report, confusion_matrix\n",
        "\n",
        "# File management\n",
        "from google.colab import drive\n",
        "import tarfile\n",
        "from shutil import copyfile\n",
        "\n",
        "# Advanced audio features\n",
        "import librosa\n",
        "import librosa.display as lid\n",
        "from sklearn.preprocessing import scale"
      ],
      "execution_count": null,
      "outputs": []
    },
    {
      "cell_type": "markdown",
      "source": [
        "##Esercitazione"
      ],
      "metadata": {
        "id": "Xe9VN5zFjF0V"
      }
    },
    {
      "cell_type": "markdown",
      "source": [
        "###File Management"
      ],
      "metadata": {
        "id": "vLucMh1zjI1c"
      }
    },
    {
      "cell_type": "code",
      "metadata": {
        "colab": {
          "base_uri": "https://localhost:8080/"
        },
        "id": "PbN-7B20DaTc",
        "outputId": "89c76484-5779-4677-8334-2f3245bf9c5f"
      },
      "source": [
        "drive.mount('/content/gdrive')"
      ],
      "execution_count": null,
      "outputs": [
        {
          "output_type": "stream",
          "name": "stdout",
          "text": [
            "Mounted at /content/gdrive\n"
          ]
        }
      ]
    },
    {
      "cell_type": "code",
      "metadata": {
        "id": "dE5LXW0qEXbq"
      },
      "source": [
        "copyfile('gdrive/My Drive/recordings.tar', 'recordings.tar')\n",
        "tar = tarfile.open('recordings.tar')\n",
        "tar.extractall()\n",
        "tar.close()"
      ],
      "execution_count": null,
      "outputs": []
    },
    {
      "cell_type": "markdown",
      "metadata": {
        "id": "f__Opy96FPiX"
      },
      "source": [
        "### Data Loader"
      ]
    },
    {
      "cell_type": "markdown",
      "source": [
        "Modulo il cui scopo è fornire iterativamnete al processo di training degli esempi, prendi i dati dalla cartella, estraggo la classe dal nome dei file e costrisce una matrice con da un lato il dato grezzo, mentre dall'altra parte mette la classe a cui appartiene il file."
      ],
      "metadata": {
        "id": "zGrTzEsWKU6X"
      }
    },
    {
      "cell_type": "code",
      "source": [
        "# Placecholder for feature extractor\n",
        "#prede in input il dato delle varibili e lo restituisce così come è\n",
        "def identity(input):\n",
        "    return input\n",
        "\n",
        "# Data loader\n",
        "def load_data(feature_extractor=identity, normalize=False):\n",
        "\n",
        "    labels = [] #inizializza i due output che vogliamo estrarre\n",
        "    features = []\n",
        "\n",
        "    #ciclo che legge tutti i wav nella cartella, li legge, non interessa la frequenza per ora\n",
        "    for f in sorted(os.listdir('./recordings')):\n",
        "        if f.endswith('.wav'):\n",
        "            # Load file and compute the requested features\n",
        "            _, signal = wav.read('./recordings/' + f)#segnale\n",
        "            cur_features = feature_extractor(signal)#feature extractor e le aggiungo a feature\n",
        "            features.append(cur_features)\n",
        "\n",
        "            # Classes\n",
        "            label = f.split('_')[0]# prendo solo la prima parte del nome del file\n",
        "            labels.append(label)\n",
        "\n",
        "    # divido i dati di training 90% e test 10%\n",
        "    # X: features, y: labels\n",
        "    X_train, X_test, y_train, y_test = train_test_split(features, labels, test_size=0.1, random_state=1)# random state, è un random seed praticamente\n",
        "\n",
        "    if normalize:\n",
        "        eps = 0.001\n",
        "        X_train = np.array(X_train)#converto in array il training\n",
        "        X_train_mean = X_train.mean(axis=0)#calcolo media e std per ogni colonna\n",
        "        X_train_std = X_train.std(axis=0)\n",
        "        X_train = (X_train - X_train_mean + eps)/(X_train_std + eps)# impongo media 0 e std 1\n",
        "        X_train = [row for row in X_train]\n",
        "\n",
        "        X_test = [row for row in (np.array(X_test) - X_train_mean + eps)/(X_train_std + eps)]\n",
        "\n",
        "    return X_train, X_test, y_train, y_test"
      ],
      "metadata": {
        "id": "OFxys0G0KwKN"
      },
      "execution_count": null,
      "outputs": []
    },
    {
      "cell_type": "markdown",
      "source": [
        "noi non andremo ad eleborare le informazioni grezze, ma andreamo a costruire dei feature extractor."
      ],
      "metadata": {
        "id": "TK9R_nucK0Sa"
      }
    },
    {
      "cell_type": "markdown",
      "source": [
        "i classificatori vogliono che tutti gli input abbiano la stessa lunghezza"
      ],
      "metadata": {
        "id": "9mFoZ6kCMeL7"
      }
    },
    {
      "cell_type": "markdown",
      "metadata": {
        "id": "se4Cu5MRPpMN"
      },
      "source": [
        "### Addestramento con Crop"
      ]
    },
    {
      "cell_type": "code",
      "metadata": {
        "id": "pHjK7z-3I7qJ"
      },
      "source": [
        "def crop(input, size=100):\n",
        "  output = input[0:min(input.shape[0], 100)]\n",
        "  output = np.concatenate((output, np.zeros(size-output.shape[0])))\n",
        "  return output"
      ],
      "execution_count": null,
      "outputs": []
    },
    {
      "cell_type": "code",
      "metadata": {
        "id": "2OApacLYJBNE"
      },
      "source": [
        "X_train, X_test, y_train, y_test = load_data(feature_extractor=crop)"
      ],
      "execution_count": null,
      "outputs": []
    },
    {
      "cell_type": "code",
      "metadata": {
        "colab": {
          "base_uri": "https://localhost:8080/"
        },
        "id": "w1LgMa3SJSTk",
        "outputId": "b72b8a03-63cd-425d-bdb6-f133e8d8e987"
      },
      "source": [
        "len(X_train) #90% di 1500"
      ],
      "execution_count": null,
      "outputs": [
        {
          "output_type": "execute_result",
          "data": {
            "text/plain": [
              "1350"
            ]
          },
          "metadata": {},
          "execution_count": 7
        }
      ]
    },
    {
      "cell_type": "code",
      "metadata": {
        "colab": {
          "base_uri": "https://localhost:8080/"
        },
        "id": "01aS-Rs3JbUT",
        "outputId": "4facbbb7-c01e-4856-a7de-80e20911e834"
      },
      "source": [
        "X_train[0].shape #cento valori perche fatto col crop"
      ],
      "execution_count": null,
      "outputs": [
        {
          "output_type": "execute_result",
          "data": {
            "text/plain": [
              "(100,)"
            ]
          },
          "metadata": {},
          "execution_count": 8
        }
      ]
    },
    {
      "cell_type": "markdown",
      "source": [
        "utilizziamo una svm per addestrare, usiamo svc come funzione, specifichiamo la funzione con kernel, quella scelta da noi è un'estensione del k-nearest neighborhood, nel nostro caso le classi sono già bilanciate, quindi buona"
      ],
      "metadata": {
        "id": "KRG-lpuqPLHO"
      }
    },
    {
      "cell_type": "code",
      "metadata": {
        "id": "WDWHBEQFJo61"
      },
      "source": [
        "# Addestramento classificatore\n",
        "clf = SVC(kernel = 'rbf', class_weight='balanced')# inizializzato la SMV\n",
        "clf = clf.fit(X_train, y_train)"
      ],
      "execution_count": null,
      "outputs": []
    },
    {
      "cell_type": "code",
      "metadata": {
        "id": "1cPkPEoGLQHN"
      },
      "source": [
        "y_pred = clf.predict(X_test) #previsioni"
      ],
      "execution_count": null,
      "outputs": []
    },
    {
      "cell_type": "code",
      "metadata": {
        "colab": {
          "base_uri": "https://localhost:8080/"
        },
        "id": "k_YKQXcmLZ_q",
        "outputId": "4050720d-135c-4c96-eeae-d7f0d3f7d305"
      },
      "source": [
        "print(classification_report(y_test, y_pred)) # statistiche"
      ],
      "execution_count": null,
      "outputs": [
        {
          "output_type": "stream",
          "name": "stdout",
          "text": [
            "              precision    recall  f1-score   support\n",
            "\n",
            "           0       0.12      0.06      0.08        17\n",
            "           1       0.27      0.30      0.29        10\n",
            "           2       0.00      0.00      0.00        15\n",
            "           3       0.27      0.16      0.20        19\n",
            "           4       0.29      0.36      0.32        11\n",
            "           5       0.00      0.00      0.00        14\n",
            "           6       0.15      1.00      0.26        14\n",
            "           7       0.00      0.00      0.00        19\n",
            "           8       0.50      0.06      0.11        17\n",
            "           9       0.33      0.07      0.12        14\n",
            "\n",
            "    accuracy                           0.18       150\n",
            "   macro avg       0.19      0.20      0.14       150\n",
            "weighted avg       0.19      0.18      0.12       150\n",
            "\n"
          ]
        }
      ]
    },
    {
      "cell_type": "code",
      "metadata": {
        "colab": {
          "base_uri": "https://localhost:8080/"
        },
        "id": "9YDD8x78L6E7",
        "outputId": "0024aa09-7a23-4e29-aa57-512aa6f5c122"
      },
      "source": [
        "cm = confusion_matrix(y_test, y_pred)\n",
        "print(cm)"
      ],
      "execution_count": null,
      "outputs": [
        {
          "output_type": "stream",
          "name": "stdout",
          "text": [
            "[[ 1  3  0  2  0  0  9  1  0  1]\n",
            " [ 2  3  1  0  0  0  4  0  0  0]\n",
            " [ 0  0  0  1  2  0 11  0  1  0]\n",
            " [ 0  0  0  3  1  0 14  1  0  0]\n",
            " [ 0  1  0  1  4  2  3  0  0  0]\n",
            " [ 0  1  0  2  1  0  9  0  0  1]\n",
            " [ 0  0  0  0  0  0 14  0  0  0]\n",
            " [ 0  1  0  0  1  0 17  0  0  0]\n",
            " [ 2  0  0  2  5  1  6  0  1  0]\n",
            " [ 3  2  1  0  0  0  7  0  0  1]]\n"
          ]
        }
      ]
    },
    {
      "cell_type": "code",
      "metadata": {
        "colab": {
          "base_uri": "https://localhost:8080/"
        },
        "id": "IpJjoOJSML-J",
        "outputId": "f125586f-3330-4ab1-d287-cfbf6896d49b"
      },
      "source": [
        "plt.imshow(cm, cmap=plt.cm.Blues) #a colpo d'occhio matrice di confusione"
      ],
      "execution_count": null,
      "outputs": [
        {
          "output_type": "execute_result",
          "data": {
            "text/plain": [
              "<matplotlib.image.AxesImage at 0x7fc086cc0210>"
            ]
          },
          "metadata": {},
          "execution_count": 13
        },
        {
          "output_type": "display_data",
          "data": {
            "text/plain": [
              "<Figure size 432x288 with 1 Axes>"
            ],
            "image/png": "[encoded data removed]"
          },
          "metadata": {
            "needs_background": "light"
          }
        }
      ]
    },
    {
      "cell_type": "markdown",
      "metadata": {
        "id": "OYakGh3JN9AS"
      },
      "source": [
        "### Addestramento con SDEV"
      ]
    },
    {
      "cell_type": "markdown",
      "source": [
        "la lunghezza delle feature è 1 in questa occasione"
      ],
      "metadata": {
        "id": "Ei4t-OysSTH3"
      }
    },
    {
      "cell_type": "code",
      "metadata": {
        "id": "6QEeL42oPVYs"
      },
      "source": [
        "def sdev(input):\n",
        "  output = np.std(input, keepdims=True)\n",
        "  #print(output)\n",
        "  return output\n",
        "# il classificatore di SVM, come feature di input, non accettano degli scalari,\n",
        "# vogliono che ciascun esmpio del training sia un vettore, quindi keepdims mantiene\n",
        "# l'output di tipo vettoriale"
      ],
      "execution_count": null,
      "outputs": []
    },
    {
      "cell_type": "code",
      "metadata": {
        "id": "nSFNBVBXM7N4"
      },
      "source": [
        "X_train_sdev, X_test_sdev, y_train_sdev, y_test_sdev = load_data(feature_extractor=sdev)"
      ],
      "execution_count": null,
      "outputs": []
    },
    {
      "cell_type": "code",
      "metadata": {
        "id": "3RxDLykIO_sD"
      },
      "source": [
        "clf_sdev = SVC(kernel = 'rbf', class_weight='balanced')# inizializzato la SMV\n",
        "clf_sdev = clf.fit(X_train_sdev, y_train_sdev)"
      ],
      "execution_count": null,
      "outputs": []
    },
    {
      "cell_type": "code",
      "metadata": {
        "id": "Z6cFxlfuO7Di"
      },
      "source": [
        "y_pred_sdev = clf.predict(X_test_sdev) #previsioni"
      ],
      "execution_count": null,
      "outputs": []
    },
    {
      "cell_type": "code",
      "metadata": {
        "colab": {
          "base_uri": "https://localhost:8080/"
        },
        "id": "9olageQ4O45r",
        "outputId": "117e8c00-6a9f-4a17-8862-532ef95e61b8"
      },
      "source": [
        "print(classification_report(y_test_sdev, y_pred_sdev)) # statistiche"
      ],
      "execution_count": null,
      "outputs": [
        {
          "output_type": "stream",
          "name": "stdout",
          "text": [
            "              precision    recall  f1-score   support\n",
            "\n",
            "           0       0.29      0.12      0.17        17\n",
            "           1       0.00      0.00      0.00        10\n",
            "           2       0.00      0.00      0.00        15\n",
            "           3       0.27      0.21      0.24        19\n",
            "           4       0.13      0.27      0.18        11\n",
            "           5       0.10      0.21      0.14        14\n",
            "           6       0.00      0.00      0.00        14\n",
            "           7       0.00      0.00      0.00        19\n",
            "           8       0.04      0.12      0.06        17\n",
            "           9       0.16      0.29      0.21        14\n",
            "\n",
            "    accuracy                           0.12       150\n",
            "   macro avg       0.10      0.12      0.10       150\n",
            "weighted avg       0.11      0.12      0.10       150\n",
            "\n"
          ]
        },
        {
          "output_type": "stream",
          "name": "stderr",
          "text": [
            "/usr/local/lib/python3.7/dist-packages/sklearn/metrics/_classification.py:1318: UndefinedMetricWarning: Precision and F-score are ill-defined and being set to 0.0 in labels with no predicted samples. Use `zero_division` parameter to control this behavior.\n",
            "  _warn_prf(average, modifier, msg_start, len(result))\n",
            "/usr/local/lib/python3.7/dist-packages/sklearn/metrics/_classification.py:1318: UndefinedMetricWarning: Precision and F-score are ill-defined and being set to 0.0 in labels with no predicted samples. Use `zero_division` parameter to control this behavior.\n",
            "  _warn_prf(average, modifier, msg_start, len(result))\n",
            "/usr/local/lib/python3.7/dist-packages/sklearn/metrics/_classification.py:1318: UndefinedMetricWarning: Precision and F-score are ill-defined and being set to 0.0 in labels with no predicted samples. Use `zero_division` parameter to control this behavior.\n",
            "  _warn_prf(average, modifier, msg_start, len(result))\n"
          ]
        }
      ]
    },
    {
      "cell_type": "code",
      "metadata": {
        "colab": {
          "base_uri": "https://localhost:8080/"
        },
        "id": "RouzMW10O2OJ",
        "outputId": "a6d00ce7-043a-4748-b621-4de2054f0027"
      },
      "source": [
        "cm_sdev = confusion_matrix(y_test_sdev, y_pred_sdev)\n",
        "print(cm_sdev)"
      ],
      "execution_count": null,
      "outputs": [
        {
          "output_type": "stream",
          "name": "stdout",
          "text": [
            "[[2 0 0 0 3 0 0 2 7 3]\n",
            " [0 0 0 2 2 2 0 0 4 0]\n",
            " [0 0 0 2 1 5 0 1 3 3]\n",
            " [0 0 0 4 3 3 0 0 7 2]\n",
            " [3 0 0 0 3 1 0 0 1 3]\n",
            " [1 1 0 1 1 3 0 0 5 2]\n",
            " [0 0 0 1 4 1 0 0 7 1]\n",
            " [0 0 0 1 1 6 0 0 8 3]\n",
            " [1 0 0 2 4 4 0 0 2 4]\n",
            " [0 0 0 2 1 4 0 0 3 4]]\n"
          ]
        }
      ]
    },
    {
      "cell_type": "code",
      "metadata": {
        "colab": {
          "base_uri": "https://localhost:8080/"
        },
        "id": "jVo2KvutOwTD",
        "outputId": "caf82130-da35-438e-ecce-f20992789f15"
      },
      "source": [
        "plt.imshow(cm_sdev, cmap=plt.cm.Blues) #a colpo d'occhio matrice di confusione"
      ],
      "execution_count": null,
      "outputs": [
        {
          "output_type": "execute_result",
          "data": {
            "text/plain": [
              "<matplotlib.image.AxesImage at 0x7fc086742990>"
            ]
          },
          "metadata": {},
          "execution_count": 20
        },
        {
          "output_type": "display_data",
          "data": {
            "text/plain": [
              "<Figure size 432x288 with 1 Axes>"
            ],
            "image/png": "[encoded data removed]"
          },
          "metadata": {
            "needs_background": "light"
          }
        }
      ]
    },
    {
      "cell_type": "markdown",
      "metadata": {
        "id": "oVa6PrNEPG11"
      },
      "source": [
        "### Addestramento CROP + SDEV"
      ]
    },
    {
      "cell_type": "code",
      "metadata": {
        "id": "icEKUlNyPL1B"
      },
      "source": [
        "def combo(input):\n",
        "  return np.concatenate((crop(input), sdev(input)))"
      ],
      "execution_count": null,
      "outputs": []
    },
    {
      "cell_type": "code",
      "metadata": {
        "id": "XeVrcS6_QCIs"
      },
      "source": [
        "X_train_combo, X_test_combo, y_train_combo, y_test_combo = load_data(feature_extractor=combo)"
      ],
      "execution_count": null,
      "outputs": []
    },
    {
      "cell_type": "code",
      "metadata": {
        "id": "ZQPYQu_ZP-5U"
      },
      "source": [
        "# Addestramento classificatore\n",
        "clf_combo = SVC(kernel = 'rbf', class_weight='balanced')# inizializzato la SMV\n",
        "clf_combo = clf.fit(X_train_combo, y_train_combo)"
      ],
      "execution_count": null,
      "outputs": []
    },
    {
      "cell_type": "code",
      "metadata": {
        "id": "FL9xlkvRPz7j"
      },
      "source": [
        "y_pred_combo = clf_combo.predict(X_test_combo) #previsioni"
      ],
      "execution_count": null,
      "outputs": []
    },
    {
      "cell_type": "code",
      "metadata": {
        "colab": {
          "base_uri": "https://localhost:8080/"
        },
        "id": "1qeAPZdtPzv5",
        "outputId": "2155fbea-c698-49df-edc9-a5dd62611997"
      },
      "source": [
        "print(classification_report(y_test_combo, y_pred_combo)) # statistiche"
      ],
      "execution_count": null,
      "outputs": [
        {
          "output_type": "stream",
          "name": "stdout",
          "text": [
            "              precision    recall  f1-score   support\n",
            "\n",
            "           0       0.29      0.12      0.17        17\n",
            "           1       0.27      0.30      0.29        10\n",
            "           2       1.00      0.13      0.24        15\n",
            "           3       0.30      0.16      0.21        19\n",
            "           4       0.23      0.27      0.25        11\n",
            "           5       0.00      0.00      0.00        14\n",
            "           6       0.18      0.29      0.22        14\n",
            "           7       0.17      0.68      0.27        19\n",
            "           8       0.50      0.06      0.11        17\n",
            "           9       0.25      0.07      0.11        14\n",
            "\n",
            "    accuracy                           0.21       150\n",
            "   macro avg       0.32      0.21      0.19       150\n",
            "weighted avg       0.32      0.21      0.18       150\n",
            "\n"
          ]
        }
      ]
    },
    {
      "cell_type": "code",
      "metadata": {
        "colab": {
          "base_uri": "https://localhost:8080/"
        },
        "id": "h8Zzx0E8PzjW",
        "outputId": "92b4d315-f7e1-4486-c4de-bafbaefd785d"
      },
      "source": [
        "cm_combo = confusion_matrix(y_test_combo, y_pred_combo)\n",
        "print(cm_combo)"
      ],
      "execution_count": null,
      "outputs": [
        {
          "output_type": "stream",
          "name": "stdout",
          "text": [
            "[[ 2  3  0  1  0  0  2  9  0  0]\n",
            " [ 1  3  0  0  0  0  0  5  0  1]\n",
            " [ 0  0  2  1  2  0  2  7  1  0]\n",
            " [ 0  0  0  3  1  0  3 12  0  0]\n",
            " [ 1  1  0  1  3  2  2  1  0  0]\n",
            " [ 0  1  0  2  1  0  3  6  0  1]\n",
            " [ 0  0  0  0  0  0  4 10  0  0]\n",
            " [ 0  0  0  0  1  0  5 13  0  0]\n",
            " [ 1  0  0  2  5  1  0  6  1  1]\n",
            " [ 2  3  0  0  0  0  1  7  0  1]]\n"
          ]
        }
      ]
    },
    {
      "cell_type": "code",
      "metadata": {
        "colab": {
          "base_uri": "https://localhost:8080/"
        },
        "id": "mvE6X3eLPzSz",
        "outputId": "f55ad2d0-7fd6-4d49-98ef-e5afae5105d1"
      },
      "source": [
        "plt.imshow(cm_combo, cmap=plt.cm.Blues) #a colpo d'occhio matrice di confusione"
      ],
      "execution_count": null,
      "outputs": [
        {
          "output_type": "execute_result",
          "data": {
            "text/plain": [
              "<matplotlib.image.AxesImage at 0x7fc0866d0dd0>"
            ]
          },
          "metadata": {},
          "execution_count": 27
        },
        {
          "output_type": "display_data",
          "data": {
            "text/plain": [
              "<Figure size 432x288 with 1 Axes>"
            ],
            "image/png": "[encoded data removed]"
          },
          "metadata": {
            "needs_background": "light"
          }
        }
      ]
    },
    {
      "cell_type": "markdown",
      "metadata": {
        "id": "ITP8IUATRX4s"
      },
      "source": [
        "### Addestramento Combo + Normalizzazione"
      ]
    },
    {
      "cell_type": "code",
      "metadata": {
        "id": "c-B-62P5RArJ"
      },
      "source": [
        "X_train_norm, X_test_norm, y_train_norm, y_test_norm = load_data(feature_extractor=combo, normalize=True)"
      ],
      "execution_count": null,
      "outputs": []
    },
    {
      "cell_type": "code",
      "metadata": {
        "id": "mtX-bhGkRSqF"
      },
      "source": [
        "# Addestramento classificatore\n",
        "clf_norm = SVC(kernel = 'rbf', class_weight='balanced')# inizializzato la SMV\n",
        "clf_norm = clf.fit(X_train_norm, y_train_norm)"
      ],
      "execution_count": null,
      "outputs": []
    },
    {
      "cell_type": "code",
      "metadata": {
        "id": "vp0P1expRTTN"
      },
      "source": [
        "y_pred_norm = clf_norm.predict(X_test_norm) #previsioni"
      ],
      "execution_count": null,
      "outputs": []
    },
    {
      "cell_type": "code",
      "metadata": {
        "colab": {
          "base_uri": "https://localhost:8080/"
        },
        "id": "3ArRrK3_RTo2",
        "outputId": "6beea108-bde7-41ce-ba5c-597429b909a0"
      },
      "source": [
        "print(classification_report(y_test_norm, y_pred_norm)) # statistiche"
      ],
      "execution_count": null,
      "outputs": [
        {
          "output_type": "stream",
          "name": "stdout",
          "text": [
            "              precision    recall  f1-score   support\n",
            "\n",
            "           0       0.44      0.24      0.31        17\n",
            "           1       0.38      0.30      0.33        10\n",
            "           2       0.80      0.27      0.40        15\n",
            "           3       0.50      0.21      0.30        19\n",
            "           4       0.29      0.36      0.32        11\n",
            "           5       0.00      0.00      0.00        14\n",
            "           6       0.19      0.36      0.25        14\n",
            "           7       0.16      0.63      0.26        19\n",
            "           8       1.00      0.06      0.11        17\n",
            "           9       0.33      0.07      0.12        14\n",
            "\n",
            "    accuracy                           0.25       150\n",
            "   macro avg       0.41      0.25      0.24       150\n",
            "weighted avg       0.42      0.25      0.24       150\n",
            "\n"
          ]
        }
      ]
    },
    {
      "cell_type": "markdown",
      "metadata": {
        "id": "Dl2qpVEtSYBZ"
      },
      "source": [
        "### Cercare i giusti parametri"
      ]
    },
    {
      "cell_type": "markdown",
      "source": [
        "metaclassificatore per trovare i parametri corretti.\n",
        "\n",
        "Usiamo una griglia di parametri C e gamma"
      ],
      "metadata": {
        "id": "VM5o0syEW4Ka"
      }
    },
    {
      "cell_type": "code",
      "metadata": {
        "id": "oAIET5oaUdry"
      },
      "source": [
        "X_train, X_test, y_train, y_test = load_data(feature_extractor=combo, normalize=True)"
      ],
      "execution_count": null,
      "outputs": []
    },
    {
      "cell_type": "markdown",
      "source": [
        "con grid search cv, divide il train in train e validation e li usa per addestrare e validare i parametri della griglia per trovare i migliori."
      ],
      "metadata": {
        "id": "xpui8kjHXbSA"
      }
    },
    {
      "cell_type": "code",
      "metadata": {
        "id": "gLh8y_FaRe9A"
      },
      "source": [
        "param_grid = {\n",
        "    'C': [100,500,1000],\n",
        "    'gamma': [0.005, 0.01,0.1,0.5,1.0]\n",
        "}\n",
        "\n",
        "clf = GridSearchCV(SVC(kernel='rbf', class_weight='balanced'), param_grid, cv=2)\n",
        "\n",
        "clf = clf.fit(X_train, y_train)"
      ],
      "execution_count": null,
      "outputs": []
    },
    {
      "cell_type": "code",
      "metadata": {
        "colab": {
          "base_uri": "https://localhost:8080/"
        },
        "id": "0dOtKDyfSjlk",
        "outputId": "0300a1f4-030e-4530-cda8-273328fc959a"
      },
      "source": [
        "clf.best_estimator_.C"
      ],
      "execution_count": null,
      "outputs": [
        {
          "output_type": "execute_result",
          "data": {
            "text/plain": [
              "500"
            ]
          },
          "metadata": {},
          "execution_count": 34
        }
      ]
    },
    {
      "cell_type": "code",
      "metadata": {
        "colab": {
          "base_uri": "https://localhost:8080/"
        },
        "id": "a6jjvbJdSqq-",
        "outputId": "aa561023-3428-4cc1-bd4a-73b90606e49a"
      },
      "source": [
        "clf.best_estimator_.gamma"
      ],
      "execution_count": null,
      "outputs": [
        {
          "output_type": "execute_result",
          "data": {
            "text/plain": [
              "0.1"
            ]
          },
          "metadata": {},
          "execution_count": 35
        }
      ]
    },
    {
      "cell_type": "code",
      "metadata": {
        "id": "aAn2zkgDUxRL"
      },
      "source": [
        "y_pred = clf.predict(X_test) #prevision"
      ],
      "execution_count": null,
      "outputs": []
    },
    {
      "cell_type": "code",
      "metadata": {
        "colab": {
          "base_uri": "https://localhost:8080/"
        },
        "id": "RH0EicrySwC3",
        "outputId": "2c9f0925-30f9-44c7-9a87-4d34b83532d3"
      },
      "source": [
        "print(classification_report(y_test, y_pred)) # statistiche"
      ],
      "execution_count": null,
      "outputs": [
        {
          "output_type": "stream",
          "name": "stdout",
          "text": [
            "              precision    recall  f1-score   support\n",
            "\n",
            "           0       0.62      0.59      0.61        17\n",
            "           1       0.41      0.70      0.52        10\n",
            "           2       0.22      0.67      0.33        15\n",
            "           3       0.62      0.26      0.37        19\n",
            "           4       0.20      0.18      0.19        11\n",
            "           5       0.33      0.07      0.12        14\n",
            "           6       0.33      0.50      0.40        14\n",
            "           7       0.13      0.11      0.12        19\n",
            "           8       0.11      0.06      0.08        17\n",
            "           9       0.60      0.21      0.32        14\n",
            "\n",
            "    accuracy                           0.32       150\n",
            "   macro avg       0.36      0.33      0.30       150\n",
            "weighted avg       0.36      0.32      0.30       150\n",
            "\n"
          ]
        }
      ]
    },
    {
      "cell_type": "markdown",
      "metadata": {
        "id": "yQpV10neU7Pa"
      },
      "source": [
        "### Addestramento con MFCC"
      ]
    },
    {
      "cell_type": "code",
      "metadata": {
        "id": "FmTWBndNTKjc"
      },
      "source": [
        "def mfcc(input, rate=8000, min_len=40, sampling=1):\n",
        "    # Sample values\n",
        "    signal = input[::sampling]\n",
        "    # Compute MFCC coefficients\n",
        "    mfcc = librosa.feature.mfcc(signal*1.0, sr=int(rate/sampling))\n",
        "    # Add additional necessary zeroes to reach the required length\n",
        "    pad_width = min_len - mfcc.shape[1]\n",
        "    mfcc = np.pad(mfcc, pad_width=((0, 0), (0, pad_width)), mode='constant')\n",
        "    # Flatten into monodimensional vector for the SVM\n",
        "    mfcc = mfcc.flatten()\n",
        "    return mfcc\n",
        "\n"
      ],
      "execution_count": null,
      "outputs": []
    },
    {
      "cell_type": "code",
      "metadata": {
        "id": "vN2Kq4lFTeSa",
        "colab": {
          "base_uri": "https://localhost:8080/"
        },
        "outputId": "792db687-8859-4a7f-8acf-0484f7430814"
      },
      "source": [
        "X_train, X_test, y_train, y_test = load_data(feature_extractor=mfcc, normalize=True)"
      ],
      "execution_count": null,
      "outputs": [
        {
          "output_type": "stream",
          "name": "stderr",
          "text": [
            "/usr/local/lib/python3.7/dist-packages/librosa/core/spectrum.py:224: UserWarning: n_fft=2048 is too small for input signal of length=2033\n",
            "  n_fft, y.shape[-1]\n",
            "/usr/local/lib/python3.7/dist-packages/librosa/core/spectrum.py:224: UserWarning: n_fft=2048 is too small for input signal of length=1963\n",
            "  n_fft, y.shape[-1]\n",
            "/usr/local/lib/python3.7/dist-packages/librosa/core/spectrum.py:224: UserWarning: n_fft=2048 is too small for input signal of length=2007\n",
            "  n_fft, y.shape[-1]\n",
            "/usr/local/lib/python3.7/dist-packages/librosa/core/spectrum.py:224: UserWarning: n_fft=2048 is too small for input signal of length=1976\n",
            "  n_fft, y.shape[-1]\n",
            "/usr/local/lib/python3.7/dist-packages/librosa/core/spectrum.py:224: UserWarning: n_fft=2048 is too small for input signal of length=1987\n",
            "  n_fft, y.shape[-1]\n",
            "/usr/local/lib/python3.7/dist-packages/librosa/core/spectrum.py:224: UserWarning: n_fft=2048 is too small for input signal of length=1886\n",
            "  n_fft, y.shape[-1]\n",
            "/usr/local/lib/python3.7/dist-packages/librosa/core/spectrum.py:224: UserWarning: n_fft=2048 is too small for input signal of length=1842\n",
            "  n_fft, y.shape[-1]\n",
            "/usr/local/lib/python3.7/dist-packages/librosa/core/spectrum.py:224: UserWarning: n_fft=2048 is too small for input signal of length=1753\n",
            "  n_fft, y.shape[-1]\n",
            "/usr/local/lib/python3.7/dist-packages/librosa/core/spectrum.py:224: UserWarning: n_fft=2048 is too small for input signal of length=1870\n",
            "  n_fft, y.shape[-1]\n",
            "/usr/local/lib/python3.7/dist-packages/librosa/core/spectrum.py:224: UserWarning: n_fft=2048 is too small for input signal of length=1813\n",
            "  n_fft, y.shape[-1]\n",
            "/usr/local/lib/python3.7/dist-packages/librosa/core/spectrum.py:224: UserWarning: n_fft=2048 is too small for input signal of length=1891\n",
            "  n_fft, y.shape[-1]\n",
            "/usr/local/lib/python3.7/dist-packages/librosa/core/spectrum.py:224: UserWarning: n_fft=2048 is too small for input signal of length=1788\n",
            "  n_fft, y.shape[-1]\n",
            "/usr/local/lib/python3.7/dist-packages/librosa/core/spectrum.py:224: UserWarning: n_fft=2048 is too small for input signal of length=1556\n",
            "  n_fft, y.shape[-1]\n",
            "/usr/local/lib/python3.7/dist-packages/librosa/core/spectrum.py:224: UserWarning: n_fft=2048 is too small for input signal of length=1997\n",
            "  n_fft, y.shape[-1]\n",
            "/usr/local/lib/python3.7/dist-packages/librosa/core/spectrum.py:224: UserWarning: n_fft=2048 is too small for input signal of length=1720\n",
            "  n_fft, y.shape[-1]\n",
            "/usr/local/lib/python3.7/dist-packages/librosa/core/spectrum.py:224: UserWarning: n_fft=2048 is too small for input signal of length=1692\n",
            "  n_fft, y.shape[-1]\n",
            "/usr/local/lib/python3.7/dist-packages/librosa/core/spectrum.py:224: UserWarning: n_fft=2048 is too small for input signal of length=1565\n",
            "  n_fft, y.shape[-1]\n",
            "/usr/local/lib/python3.7/dist-packages/librosa/core/spectrum.py:224: UserWarning: n_fft=2048 is too small for input signal of length=1737\n",
            "  n_fft, y.shape[-1]\n",
            "/usr/local/lib/python3.7/dist-packages/librosa/core/spectrum.py:224: UserWarning: n_fft=2048 is too small for input signal of length=1760\n",
            "  n_fft, y.shape[-1]\n",
            "/usr/local/lib/python3.7/dist-packages/librosa/core/spectrum.py:224: UserWarning: n_fft=2048 is too small for input signal of length=1890\n",
            "  n_fft, y.shape[-1]\n",
            "/usr/local/lib/python3.7/dist-packages/librosa/core/spectrum.py:224: UserWarning: n_fft=2048 is too small for input signal of length=2016\n",
            "  n_fft, y.shape[-1]\n",
            "/usr/local/lib/python3.7/dist-packages/librosa/core/spectrum.py:224: UserWarning: n_fft=2048 is too small for input signal of length=1493\n",
            "  n_fft, y.shape[-1]\n",
            "/usr/local/lib/python3.7/dist-packages/librosa/core/spectrum.py:224: UserWarning: n_fft=2048 is too small for input signal of length=1525\n",
            "  n_fft, y.shape[-1]\n",
            "/usr/local/lib/python3.7/dist-packages/librosa/core/spectrum.py:224: UserWarning: n_fft=2048 is too small for input signal of length=1742\n",
            "  n_fft, y.shape[-1]\n",
            "/usr/local/lib/python3.7/dist-packages/librosa/core/spectrum.py:224: UserWarning: n_fft=2048 is too small for input signal of length=1866\n",
            "  n_fft, y.shape[-1]\n",
            "/usr/local/lib/python3.7/dist-packages/librosa/core/spectrum.py:224: UserWarning: n_fft=2048 is too small for input signal of length=1914\n",
            "  n_fft, y.shape[-1]\n",
            "/usr/local/lib/python3.7/dist-packages/librosa/core/spectrum.py:224: UserWarning: n_fft=2048 is too small for input signal of length=1568\n",
            "  n_fft, y.shape[-1]\n",
            "/usr/local/lib/python3.7/dist-packages/librosa/core/spectrum.py:224: UserWarning: n_fft=2048 is too small for input signal of length=1627\n",
            "  n_fft, y.shape[-1]\n",
            "/usr/local/lib/python3.7/dist-packages/librosa/core/spectrum.py:224: UserWarning: n_fft=2048 is too small for input signal of length=1772\n",
            "  n_fft, y.shape[-1]\n",
            "/usr/local/lib/python3.7/dist-packages/librosa/core/spectrum.py:224: UserWarning: n_fft=2048 is too small for input signal of length=1597\n",
            "  n_fft, y.shape[-1]\n",
            "/usr/local/lib/python3.7/dist-packages/librosa/core/spectrum.py:224: UserWarning: n_fft=2048 is too small for input signal of length=1801\n",
            "  n_fft, y.shape[-1]\n",
            "/usr/local/lib/python3.7/dist-packages/librosa/core/spectrum.py:224: UserWarning: n_fft=2048 is too small for input signal of length=1475\n",
            "  n_fft, y.shape[-1]\n",
            "/usr/local/lib/python3.7/dist-packages/librosa/core/spectrum.py:224: UserWarning: n_fft=2048 is too small for input signal of length=1852\n",
            "  n_fft, y.shape[-1]\n",
            "/usr/local/lib/python3.7/dist-packages/librosa/core/spectrum.py:224: UserWarning: n_fft=2048 is too small for input signal of length=1953\n",
            "  n_fft, y.shape[-1]\n",
            "/usr/local/lib/python3.7/dist-packages/librosa/core/spectrum.py:224: UserWarning: n_fft=2048 is too small for input signal of length=1819\n",
            "  n_fft, y.shape[-1]\n",
            "/usr/local/lib/python3.7/dist-packages/librosa/core/spectrum.py:224: UserWarning: n_fft=2048 is too small for input signal of length=1664\n",
            "  n_fft, y.shape[-1]\n",
            "/usr/local/lib/python3.7/dist-packages/librosa/core/spectrum.py:224: UserWarning: n_fft=2048 is too small for input signal of length=1962\n",
            "  n_fft, y.shape[-1]\n",
            "/usr/local/lib/python3.7/dist-packages/librosa/core/spectrum.py:224: UserWarning: n_fft=2048 is too small for input signal of length=1639\n",
            "  n_fft, y.shape[-1]\n",
            "/usr/local/lib/python3.7/dist-packages/librosa/core/spectrum.py:224: UserWarning: n_fft=2048 is too small for input signal of length=1601\n",
            "  n_fft, y.shape[-1]\n",
            "/usr/local/lib/python3.7/dist-packages/librosa/core/spectrum.py:224: UserWarning: n_fft=2048 is too small for input signal of length=1288\n",
            "  n_fft, y.shape[-1]\n",
            "/usr/local/lib/python3.7/dist-packages/librosa/core/spectrum.py:224: UserWarning: n_fft=2048 is too small for input signal of length=1910\n",
            "  n_fft, y.shape[-1]\n",
            "/usr/local/lib/python3.7/dist-packages/librosa/core/spectrum.py:224: UserWarning: n_fft=2048 is too small for input signal of length=1854\n",
            "  n_fft, y.shape[-1]\n",
            "/usr/local/lib/python3.7/dist-packages/librosa/core/spectrum.py:224: UserWarning: n_fft=2048 is too small for input signal of length=1807\n",
            "  n_fft, y.shape[-1]\n",
            "/usr/local/lib/python3.7/dist-packages/librosa/core/spectrum.py:224: UserWarning: n_fft=2048 is too small for input signal of length=1704\n",
            "  n_fft, y.shape[-1]\n",
            "/usr/local/lib/python3.7/dist-packages/librosa/core/spectrum.py:224: UserWarning: n_fft=2048 is too small for input signal of length=1896\n",
            "  n_fft, y.shape[-1]\n",
            "/usr/local/lib/python3.7/dist-packages/librosa/core/spectrum.py:224: UserWarning: n_fft=2048 is too small for input signal of length=2042\n",
            "  n_fft, y.shape[-1]\n",
            "/usr/local/lib/python3.7/dist-packages/librosa/core/spectrum.py:224: UserWarning: n_fft=2048 is too small for input signal of length=2037\n",
            "  n_fft, y.shape[-1]\n",
            "/usr/local/lib/python3.7/dist-packages/librosa/core/spectrum.py:224: UserWarning: n_fft=2048 is too small for input signal of length=1943\n",
            "  n_fft, y.shape[-1]\n",
            "/usr/local/lib/python3.7/dist-packages/librosa/core/spectrum.py:224: UserWarning: n_fft=2048 is too small for input signal of length=1640\n",
            "  n_fft, y.shape[-1]\n",
            "/usr/local/lib/python3.7/dist-packages/librosa/core/spectrum.py:224: UserWarning: n_fft=2048 is too small for input signal of length=1547\n",
            "  n_fft, y.shape[-1]\n",
            "/usr/local/lib/python3.7/dist-packages/librosa/core/spectrum.py:224: UserWarning: n_fft=2048 is too small for input signal of length=1516\n",
            "  n_fft, y.shape[-1]\n",
            "/usr/local/lib/python3.7/dist-packages/librosa/core/spectrum.py:224: UserWarning: n_fft=2048 is too small for input signal of length=1609\n",
            "  n_fft, y.shape[-1]\n",
            "/usr/local/lib/python3.7/dist-packages/librosa/core/spectrum.py:224: UserWarning: n_fft=2048 is too small for input signal of length=1455\n",
            "  n_fft, y.shape[-1]\n",
            "/usr/local/lib/python3.7/dist-packages/librosa/core/spectrum.py:224: UserWarning: n_fft=2048 is too small for input signal of length=1650\n",
            "  n_fft, y.shape[-1]\n",
            "/usr/local/lib/python3.7/dist-packages/librosa/core/spectrum.py:224: UserWarning: n_fft=2048 is too small for input signal of length=1960\n",
            "  n_fft, y.shape[-1]\n",
            "/usr/local/lib/python3.7/dist-packages/librosa/core/spectrum.py:224: UserWarning: n_fft=2048 is too small for input signal of length=1837\n",
            "  n_fft, y.shape[-1]\n",
            "/usr/local/lib/python3.7/dist-packages/librosa/core/spectrum.py:224: UserWarning: n_fft=2048 is too small for input signal of length=1712\n",
            "  n_fft, y.shape[-1]\n",
            "/usr/local/lib/python3.7/dist-packages/librosa/core/spectrum.py:224: UserWarning: n_fft=2048 is too small for input signal of length=1774\n",
            "  n_fft, y.shape[-1]\n",
            "/usr/local/lib/python3.7/dist-packages/librosa/core/spectrum.py:224: UserWarning: n_fft=2048 is too small for input signal of length=1884\n",
            "  n_fft, y.shape[-1]\n",
            "/usr/local/lib/python3.7/dist-packages/librosa/core/spectrum.py:224: UserWarning: n_fft=2048 is too small for input signal of length=1805\n",
            "  n_fft, y.shape[-1]\n",
            "/usr/local/lib/python3.7/dist-packages/librosa/core/spectrum.py:224: UserWarning: n_fft=2048 is too small for input signal of length=1713\n",
            "  n_fft, y.shape[-1]\n",
            "/usr/local/lib/python3.7/dist-packages/librosa/core/spectrum.py:224: UserWarning: n_fft=2048 is too small for input signal of length=2023\n",
            "  n_fft, y.shape[-1]\n",
            "/usr/local/lib/python3.7/dist-packages/librosa/core/spectrum.py:224: UserWarning: n_fft=2048 is too small for input signal of length=1915\n",
            "  n_fft, y.shape[-1]\n",
            "/usr/local/lib/python3.7/dist-packages/librosa/core/spectrum.py:224: UserWarning: n_fft=2048 is too small for input signal of length=1931\n",
            "  n_fft, y.shape[-1]\n",
            "/usr/local/lib/python3.7/dist-packages/librosa/core/spectrum.py:224: UserWarning: n_fft=2048 is too small for input signal of length=1793\n",
            "  n_fft, y.shape[-1]\n",
            "/usr/local/lib/python3.7/dist-packages/librosa/core/spectrum.py:224: UserWarning: n_fft=2048 is too small for input signal of length=1824\n",
            "  n_fft, y.shape[-1]\n",
            "/usr/local/lib/python3.7/dist-packages/librosa/core/spectrum.py:224: UserWarning: n_fft=2048 is too small for input signal of length=1579\n",
            "  n_fft, y.shape[-1]\n",
            "/usr/local/lib/python3.7/dist-packages/librosa/core/spectrum.py:224: UserWarning: n_fft=2048 is too small for input signal of length=1817\n",
            "  n_fft, y.shape[-1]\n",
            "/usr/local/lib/python3.7/dist-packages/librosa/core/spectrum.py:224: UserWarning: n_fft=2048 is too small for input signal of length=1876\n",
            "  n_fft, y.shape[-1]\n",
            "/usr/local/lib/python3.7/dist-packages/librosa/core/spectrum.py:224: UserWarning: n_fft=2048 is too small for input signal of length=1958\n",
            "  n_fft, y.shape[-1]\n",
            "/usr/local/lib/python3.7/dist-packages/librosa/core/spectrum.py:224: UserWarning: n_fft=2048 is too small for input signal of length=1560\n",
            "  n_fft, y.shape[-1]\n",
            "/usr/local/lib/python3.7/dist-packages/librosa/core/spectrum.py:224: UserWarning: n_fft=2048 is too small for input signal of length=1795\n",
            "  n_fft, y.shape[-1]\n",
            "/usr/local/lib/python3.7/dist-packages/librosa/core/spectrum.py:224: UserWarning: n_fft=2048 is too small for input signal of length=2036\n",
            "  n_fft, y.shape[-1]\n",
            "/usr/local/lib/python3.7/dist-packages/librosa/core/spectrum.py:224: UserWarning: n_fft=2048 is too small for input signal of length=1846\n",
            "  n_fft, y.shape[-1]\n",
            "/usr/local/lib/python3.7/dist-packages/librosa/core/spectrum.py:224: UserWarning: n_fft=2048 is too small for input signal of length=1803\n",
            "  n_fft, y.shape[-1]\n",
            "/usr/local/lib/python3.7/dist-packages/librosa/core/spectrum.py:224: UserWarning: n_fft=2048 is too small for input signal of length=1945\n",
            "  n_fft, y.shape[-1]\n",
            "/usr/local/lib/python3.7/dist-packages/librosa/core/spectrum.py:224: UserWarning: n_fft=2048 is too small for input signal of length=2001\n",
            "  n_fft, y.shape[-1]\n",
            "/usr/local/lib/python3.7/dist-packages/librosa/core/spectrum.py:224: UserWarning: n_fft=2048 is too small for input signal of length=1832\n",
            "  n_fft, y.shape[-1]\n",
            "/usr/local/lib/python3.7/dist-packages/librosa/core/spectrum.py:224: UserWarning: n_fft=2048 is too small for input signal of length=2039\n",
            "  n_fft, y.shape[-1]\n",
            "/usr/local/lib/python3.7/dist-packages/librosa/core/spectrum.py:224: UserWarning: n_fft=2048 is too small for input signal of length=1873\n",
            "  n_fft, y.shape[-1]\n",
            "/usr/local/lib/python3.7/dist-packages/librosa/core/spectrum.py:224: UserWarning: n_fft=2048 is too small for input signal of length=1632\n",
            "  n_fft, y.shape[-1]\n",
            "/usr/local/lib/python3.7/dist-packages/librosa/core/spectrum.py:224: UserWarning: n_fft=2048 is too small for input signal of length=1806\n",
            "  n_fft, y.shape[-1]\n",
            "/usr/local/lib/python3.7/dist-packages/librosa/core/spectrum.py:224: UserWarning: n_fft=2048 is too small for input signal of length=2022\n",
            "  n_fft, y.shape[-1]\n",
            "/usr/local/lib/python3.7/dist-packages/librosa/core/spectrum.py:224: UserWarning: n_fft=2048 is too small for input signal of length=2014\n",
            "  n_fft, y.shape[-1]\n",
            "/usr/local/lib/python3.7/dist-packages/librosa/core/spectrum.py:224: UserWarning: n_fft=2048 is too small for input signal of length=2045\n",
            "  n_fft, y.shape[-1]\n",
            "/usr/local/lib/python3.7/dist-packages/librosa/core/spectrum.py:224: UserWarning: n_fft=2048 is too small for input signal of length=1790\n",
            "  n_fft, y.shape[-1]\n",
            "/usr/local/lib/python3.7/dist-packages/librosa/core/spectrum.py:224: UserWarning: n_fft=2048 is too small for input signal of length=1705\n",
            "  n_fft, y.shape[-1]\n",
            "/usr/local/lib/python3.7/dist-packages/librosa/core/spectrum.py:224: UserWarning: n_fft=2048 is too small for input signal of length=1673\n",
            "  n_fft, y.shape[-1]\n",
            "/usr/local/lib/python3.7/dist-packages/librosa/core/spectrum.py:224: UserWarning: n_fft=2048 is too small for input signal of length=1970\n",
            "  n_fft, y.shape[-1]\n",
            "/usr/local/lib/python3.7/dist-packages/librosa/core/spectrum.py:224: UserWarning: n_fft=2048 is too small for input signal of length=1722\n",
            "  n_fft, y.shape[-1]\n",
            "/usr/local/lib/python3.7/dist-packages/librosa/core/spectrum.py:224: UserWarning: n_fft=2048 is too small for input signal of length=1850\n",
            "  n_fft, y.shape[-1]\n",
            "/usr/local/lib/python3.7/dist-packages/librosa/core/spectrum.py:224: UserWarning: n_fft=2048 is too small for input signal of length=1843\n",
            "  n_fft, y.shape[-1]\n",
            "/usr/local/lib/python3.7/dist-packages/librosa/core/spectrum.py:224: UserWarning: n_fft=2048 is too small for input signal of length=1778\n",
            "  n_fft, y.shape[-1]\n",
            "/usr/local/lib/python3.7/dist-packages/librosa/core/spectrum.py:224: UserWarning: n_fft=2048 is too small for input signal of length=1433\n",
            "  n_fft, y.shape[-1]\n",
            "/usr/local/lib/python3.7/dist-packages/librosa/core/spectrum.py:224: UserWarning: n_fft=2048 is too small for input signal of length=1296\n",
            "  n_fft, y.shape[-1]\n",
            "/usr/local/lib/python3.7/dist-packages/librosa/core/spectrum.py:224: UserWarning: n_fft=2048 is too small for input signal of length=2012\n",
            "  n_fft, y.shape[-1]\n",
            "/usr/local/lib/python3.7/dist-packages/librosa/core/spectrum.py:224: UserWarning: n_fft=2048 is too small for input signal of length=1911\n",
            "  n_fft, y.shape[-1]\n",
            "/usr/local/lib/python3.7/dist-packages/librosa/core/spectrum.py:224: UserWarning: n_fft=2048 is too small for input signal of length=1569\n",
            "  n_fft, y.shape[-1]\n",
            "/usr/local/lib/python3.7/dist-packages/librosa/core/spectrum.py:224: UserWarning: n_fft=2048 is too small for input signal of length=1973\n",
            "  n_fft, y.shape[-1]\n",
            "/usr/local/lib/python3.7/dist-packages/librosa/core/spectrum.py:224: UserWarning: n_fft=2048 is too small for input signal of length=1434\n",
            "  n_fft, y.shape[-1]\n",
            "/usr/local/lib/python3.7/dist-packages/librosa/core/spectrum.py:224: UserWarning: n_fft=2048 is too small for input signal of length=1295\n",
            "  n_fft, y.shape[-1]\n",
            "/usr/local/lib/python3.7/dist-packages/librosa/core/spectrum.py:224: UserWarning: n_fft=2048 is too small for input signal of length=1403\n",
            "  n_fft, y.shape[-1]\n",
            "/usr/local/lib/python3.7/dist-packages/librosa/core/spectrum.py:224: UserWarning: n_fft=2048 is too small for input signal of length=1634\n",
            "  n_fft, y.shape[-1]\n",
            "/usr/local/lib/python3.7/dist-packages/librosa/core/spectrum.py:224: UserWarning: n_fft=2048 is too small for input signal of length=1357\n",
            "  n_fft, y.shape[-1]\n",
            "/usr/local/lib/python3.7/dist-packages/librosa/core/spectrum.py:224: UserWarning: n_fft=2048 is too small for input signal of length=1968\n",
            "  n_fft, y.shape[-1]\n",
            "/usr/local/lib/python3.7/dist-packages/librosa/core/spectrum.py:224: UserWarning: n_fft=2048 is too small for input signal of length=1593\n",
            "  n_fft, y.shape[-1]\n",
            "/usr/local/lib/python3.7/dist-packages/librosa/core/spectrum.py:224: UserWarning: n_fft=2048 is too small for input signal of length=1913\n",
            "  n_fft, y.shape[-1]\n",
            "/usr/local/lib/python3.7/dist-packages/librosa/core/spectrum.py:224: UserWarning: n_fft=2048 is too small for input signal of length=1149\n",
            "  n_fft, y.shape[-1]\n",
            "/usr/local/lib/python3.7/dist-packages/librosa/core/spectrum.py:224: UserWarning: n_fft=2048 is too small for input signal of length=1610\n",
            "  n_fft, y.shape[-1]\n",
            "/usr/local/lib/python3.7/dist-packages/librosa/core/spectrum.py:224: UserWarning: n_fft=2048 is too small for input signal of length=1259\n",
            "  n_fft, y.shape[-1]\n",
            "/usr/local/lib/python3.7/dist-packages/librosa/core/spectrum.py:224: UserWarning: n_fft=2048 is too small for input signal of length=1978\n",
            "  n_fft, y.shape[-1]\n",
            "/usr/local/lib/python3.7/dist-packages/librosa/core/spectrum.py:224: UserWarning: n_fft=2048 is too small for input signal of length=1965\n",
            "  n_fft, y.shape[-1]\n",
            "/usr/local/lib/python3.7/dist-packages/librosa/core/spectrum.py:224: UserWarning: n_fft=2048 is too small for input signal of length=2020\n",
            "  n_fft, y.shape[-1]\n",
            "/usr/local/lib/python3.7/dist-packages/librosa/core/spectrum.py:224: UserWarning: n_fft=2048 is too small for input signal of length=1998\n",
            "  n_fft, y.shape[-1]\n",
            "/usr/local/lib/python3.7/dist-packages/librosa/core/spectrum.py:224: UserWarning: n_fft=2048 is too small for input signal of length=1858\n",
            "  n_fft, y.shape[-1]\n",
            "/usr/local/lib/python3.7/dist-packages/librosa/core/spectrum.py:224: UserWarning: n_fft=2048 is too small for input signal of length=1936\n",
            "  n_fft, y.shape[-1]\n",
            "/usr/local/lib/python3.7/dist-packages/librosa/core/spectrum.py:224: UserWarning: n_fft=2048 is too small for input signal of length=2015\n",
            "  n_fft, y.shape[-1]\n"
          ]
        }
      ]
    },
    {
      "cell_type": "code",
      "metadata": {
        "id": "NMg4qUK3Ty7R"
      },
      "source": [
        "param_grid = {\n",
        "    'C': [100,500,1000],\n",
        "    'gamma': [0.005, 0.01,0.1,0.5,1.0]\n",
        "}\n",
        "\n",
        "clf = GridSearchCV(SVC(kernel='rbf', class_weight='balanced'), param_grid, cv=2)\n",
        "\n",
        "clf = clf.fit(X_train, y_train)"
      ],
      "execution_count": null,
      "outputs": []
    },
    {
      "cell_type": "code",
      "metadata": {
        "id": "mtXRmq28UAFb"
      },
      "source": [
        "y_pred = clf.predict(X_test) #previsioni"
      ],
      "execution_count": null,
      "outputs": []
    },
    {
      "cell_type": "code",
      "metadata": {
        "colab": {
          "base_uri": "https://localhost:8080/"
        },
        "id": "oCysEmrKUAvA",
        "outputId": "28300220-8e4e-4f18-aa94-b0e93e10ea8b"
      },
      "source": [
        "print(classification_report(y_test, y_pred)) # statistiche"
      ],
      "execution_count": null,
      "outputs": [
        {
          "output_type": "stream",
          "name": "stdout",
          "text": [
            "              precision    recall  f1-score   support\n",
            "\n",
            "           0       1.00      1.00      1.00        17\n",
            "           1       1.00      1.00      1.00        10\n",
            "           2       1.00      1.00      1.00        15\n",
            "           3       1.00      1.00      1.00        19\n",
            "           4       1.00      1.00      1.00        11\n",
            "           5       1.00      0.93      0.96        14\n",
            "           6       0.82      1.00      0.90        14\n",
            "           7       1.00      0.95      0.97        19\n",
            "           8       1.00      1.00      1.00        17\n",
            "           9       1.00      0.93      0.96        14\n",
            "\n",
            "    accuracy                           0.98       150\n",
            "   macro avg       0.98      0.98      0.98       150\n",
            "weighted avg       0.98      0.98      0.98       150\n",
            "\n"
          ]
        }
      ]
    },
    {
      "cell_type": "markdown",
      "metadata": {
        "id": "RcSogkiJVVEx"
      },
      "source": [
        "## Assignment\n"
      ]
    },
    {
      "cell_type": "markdown",
      "source": [
        "**Consegna:** Implementare un feature extraction basato su Zero Cossing Rate:\n",
        "[10 14 5 -5 -7 10] --> ZCR=2 \n",
        "\n",
        "*   Voce elenco\n",
        "*   Voce elenco\n",
        "\n",
        "\n",
        "Passaggio da positivo a negativo\n",
        "traslare i dati di una posizione valutare i segni dei due vettori"
      ],
      "metadata": {
        "id": "TStlsHoYjfqj"
      }
    },
    {
      "cell_type": "markdown",
      "source": [
        "**Implementazione**: vengono confrontati i segni dei valori appartenti al segnale (posizione corrente) con quelli del segnale traslato di una posizione (posizione successiva), creando un'array contente i valori:\n",
        "\n",
        "*   0 --> se i segni dei valori sono gli stessi\n",
        "*   1 --> se i segni dei valori sono diversi, c'è un cambio di segno\n",
        "\n",
        "Avremo quindi un array contente il valore 1 per ogni cambio di segno, successivamente sommando tutti i valori 1 si ottiene la feature richiesta.\n",
        "\n"
      ],
      "metadata": {
        "id": "jTwvaG0er0ke"
      }
    },
    {
      "cell_type": "code",
      "metadata": {
        "id": "_lLbsU7FLU4e"
      },
      "source": [
        "def zero_cross(input):\n",
        "  input=input[input != 0]\n",
        "  sign = np.array(np.where(np.sign(input)*np.sign(np.roll(input, -1)) < 0, 1, 0))\n",
        "  output = np.sum(sign, keepdims=True)\n",
        "  return output"
      ],
      "execution_count": null,
      "outputs": []
    },
    {
      "cell_type": "code",
      "metadata": {
        "id": "DeuPAdB5Q6UB"
      },
      "source": [
        "X_train_zcr, X_test_zcr, y_train_zcr, y_test_zcr = load_data(feature_extractor=zero_cross)"
      ],
      "execution_count": null,
      "outputs": []
    },
    {
      "cell_type": "code",
      "metadata": {
        "colab": {
          "base_uri": "https://localhost:8080/"
        },
        "id": "Ewu4py8hRszi",
        "outputId": "c51c249d-af24-414c-8b79-83f608828902"
      },
      "source": [
        "len(X_train_zcr)"
      ],
      "execution_count": null,
      "outputs": [
        {
          "output_type": "execute_result",
          "data": {
            "text/plain": [
              "1350"
            ]
          },
          "metadata": {},
          "execution_count": 45
        }
      ]
    },
    {
      "cell_type": "markdown",
      "source": [
        "Con le feature estratte dal segnale viene utilizzata una SVM (come già applicato in precedenza) per la classificazione dei diversi segnali."
      ],
      "metadata": {
        "id": "LGLuUSjhrjrp"
      }
    },
    {
      "cell_type": "code",
      "metadata": {
        "id": "ylADFYcYfdhc"
      },
      "source": [
        "param_grid = {\n",
        "    'C': [100,500,1000],\n",
        "    'gamma': [0.005, 0.01,0.1,0.5,1.0]\n",
        "}\n",
        "\n",
        "clf = GridSearchCV(SVC(kernel='rbf', class_weight='balanced'), param_grid, cv=2)\n",
        "\n",
        "clf = clf.fit(X_train_zcr, y_train_zcr)"
      ],
      "execution_count": null,
      "outputs": []
    },
    {
      "cell_type": "code",
      "metadata": {
        "id": "O_wfp4dkR5US"
      },
      "source": [
        "y_pred_zcr = clf.predict(X_test_zcr) "
      ],
      "execution_count": null,
      "outputs": []
    },
    {
      "cell_type": "markdown",
      "source": [
        "Vengono mostrate le performance del classificatore, come si può notare sono molto scarse con un'accuracy del 23%"
      ],
      "metadata": {
        "id": "1CpOG1gluXzx"
      }
    },
    {
      "cell_type": "code",
      "source": [
        "print(classification_report(y_test_zcr, y_pred_zcr)) "
      ],
      "metadata": {
        "colab": {
          "base_uri": "https://localhost:8080/"
        },
        "id": "IgEvsagRKKO9",
        "outputId": "7356bc44-ee12-498b-cc4f-446f185faa5b"
      },
      "execution_count": null,
      "outputs": [
        {
          "output_type": "stream",
          "name": "stdout",
          "text": [
            "              precision    recall  f1-score   support\n",
            "\n",
            "           0       0.45      0.29      0.36        17\n",
            "           1       0.13      0.40      0.20        10\n",
            "           2       0.17      0.13      0.15        15\n",
            "           3       0.27      0.21      0.24        19\n",
            "           4       0.08      0.09      0.08        11\n",
            "           5       0.16      0.21      0.18        14\n",
            "           6       0.64      0.64      0.64        14\n",
            "           7       0.00      0.00      0.00        19\n",
            "           8       0.25      0.18      0.21        17\n",
            "           9       0.31      0.29      0.30        14\n",
            "\n",
            "    accuracy                           0.23       150\n",
            "   macro avg       0.25      0.24      0.23       150\n",
            "weighted avg       0.25      0.23      0.23       150\n",
            "\n"
          ]
        }
      ]
    }
  ]
}