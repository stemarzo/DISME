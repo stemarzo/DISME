{
  "cells": [
    {
      "cell_type": "markdown",
      "metadata": {
        "id": "view-in-github",
        "colab_type": "text"
      },
      "source": [
        "<a href=\"https://colab.research.google.com/github/stemarzo/DISME/blob/main/05_Quinto_Assignment.ipynb\" target=\"_parent\"><img src=\"https://colab.research.google.com/assets/colab-badge.svg\" alt=\"Open In Colab\"/></a>"
      ]
    },
    {
      "cell_type": "markdown",
      "metadata": {
        "id": "4Whe35lzr1Fa"
      },
      "source": [
        "#QUINTO ASSIGNEMENT: FINE TUNING "
      ]
    },
    {
      "cell_type": "code",
      "execution_count": null,
      "metadata": {
        "colab": {
          "base_uri": "https://localhost:8080/",
          "height": 35
        },
        "id": "dczpPF0adTJl",
        "outputId": "27188bac-c5cf-442e-8104-e8f1ab1f8b46"
      },
      "outputs": [
        {
          "output_type": "execute_result",
          "data": {
            "text/plain": [
              "'2.8.0'"
            ],
            "application/vnd.google.colaboratory.intrinsic+json": {
              "type": "string"
            }
          },
          "metadata": {},
          "execution_count": 2
        }
      ],
      "source": [
        "from tensorflow import keras\n",
        "keras.__version__"
      ]
    },
    {
      "cell_type": "code",
      "execution_count": null,
      "metadata": {
        "id": "QWLZfGNuUQP9"
      },
      "outputs": [],
      "source": [
        "import tarfile\n",
        "from time import time\n",
        "from shutil import copyfile"
      ]
    },
    {
      "cell_type": "markdown",
      "source": [
        "##Esercitazione"
      ],
      "metadata": {
        "id": "6IdbTAMMeivg"
      }
    },
    {
      "cell_type": "markdown",
      "metadata": {
        "id": "7Nt8erpuI9RN"
      },
      "source": [
        "### File management"
      ]
    },
    {
      "cell_type": "markdown",
      "metadata": {
        "id": "TyuYOTqMsitk"
      },
      "source": [
        "https://colab.research.google.com/notebooks/io.ipynb"
      ]
    },
    {
      "cell_type": "code",
      "execution_count": null,
      "metadata": {
        "colab": {
          "base_uri": "https://localhost:8080/"
        },
        "id": "LCXr9Cl8KrVi",
        "outputId": "c6aecbf6-84d3-426f-fae0-c3c3e12a7d95"
      },
      "outputs": [
        {
          "output_type": "stream",
          "name": "stdout",
          "text": [
            "Mounted at /content/gdrive\n"
          ]
        }
      ],
      "source": [
        "from google.colab import drive\n",
        "drive.mount('/content/gdrive')"
      ]
    },
    {
      "cell_type": "code",
      "execution_count": null,
      "metadata": {
        "colab": {
          "base_uri": "https://localhost:8080/"
        },
        "id": "1apKGzDPoHH2",
        "outputId": "79d2d83d-9a16-4f51-89cb-9adfb96f5757"
      },
      "outputs": [
        {
          "output_type": "stream",
          "name": "stdout",
          "text": [
            "File transfer completed in 4.446 seconds\n"
          ]
        }
      ],
      "source": [
        "t0 = time()\n",
        "# Link Google Drive account, transfer dataset, and extract files\n",
        "copyfile('gdrive/My Drive/101_ObjectCategories_split.tar', '101_ObjectCategories_split.tar')\n",
        "tar = tarfile.open('101_ObjectCategories_split.tar')\n",
        "tar.extractall()\n",
        "tar.close()\n",
        "print(\"File transfer completed in %0.3f seconds\" % (time() - t0))"
      ]
    },
    {
      "cell_type": "code",
      "execution_count": null,
      "metadata": {
        "id": "ZsKJQ1cI82YZ"
      },
      "outputs": [],
      "source": [
        "base_path = '101_ObjectCategories_split/'"
      ]
    },
    {
      "cell_type": "markdown",
      "metadata": {
        "id": "D1KKRQLifv8l"
      },
      "source": [
        "### Data loader"
      ]
    },
    {
      "cell_type": "markdown",
      "metadata": {
        "id": "tDzLNNb9o05-"
      },
      "source": [
        "A data loader takes care of (at least) the following tasks:\n",
        "\n",
        "1. Loading input and target data\n",
        "2. Splitting the dataset into mini batches\n"
      ]
    },
    {
      "cell_type": "markdown",
      "metadata": {
        "id": "DdHeCb2Proeo"
      },
      "source": [
        "**Training set**"
      ]
    },
    {
      "cell_type": "markdown",
      "metadata": {
        "id": "TlspleqqJa1k"
      },
      "source": [
        "https://keras.io/api/preprocessing/image/#imagedatasetfromdirectory-function"
      ]
    },
    {
      "cell_type": "code",
      "execution_count": null,
      "metadata": {
        "colab": {
          "base_uri": "https://localhost:8080/"
        },
        "id": "hqmp7D_NN6Kx",
        "outputId": "c65d6595-4fb8-4689-e14f-12d9a489ad5b"
      },
      "outputs": [
        {
          "output_type": "stream",
          "name": "stdout",
          "text": [
            "Found 4600 files belonging to 102 classes.\n"
          ]
        }
      ],
      "source": [
        "train_dataset = keras.preprocessing.image_dataset_from_directory(base_path+'train',\n",
        "                                                            image_size=(224,224),\n",
        "                                                            color_mode='rgb',\n",
        "                                                            batch_size=32,\n",
        "                                                            label_mode='categorical',\n",
        "                                                            shuffle=True,\n",
        "                                                            seed=1)"
      ]
    },
    {
      "cell_type": "markdown",
      "metadata": {
        "id": "GqUui-2kJjbc"
      },
      "source": [
        "Data shuffling (randomization of the instances order) is fundamental in order to ensure that each minibatch is representative of the whole set of classes (or as many classes as possible)"
      ]
    },
    {
      "cell_type": "markdown",
      "metadata": {
        "id": "YnRD5ix_rwMd"
      },
      "source": [
        "**Test set**"
      ]
    },
    {
      "cell_type": "code",
      "execution_count": null,
      "metadata": {
        "colab": {
          "base_uri": "https://localhost:8080/"
        },
        "id": "B3OVJ03XiZDa",
        "outputId": "8cb0ee88-59d4-4fbc-bbcb-5696a7326acf"
      },
      "outputs": [
        {
          "output_type": "stream",
          "name": "stdout",
          "text": [
            "Found 4544 files belonging to 102 classes.\n"
          ]
        }
      ],
      "source": [
        "test_dataset = keras.preprocessing.image_dataset_from_directory(base_path+'test',\n",
        "                                                            image_size=(224,224),\n",
        "                                                            color_mode='rgb',\n",
        "                                                            batch_size=32,\n",
        "                                                            label_mode='categorical',\n",
        "                                                            shuffle=True,\n",
        "                                                            seed=1)"
      ]
    },
    {
      "cell_type": "markdown",
      "metadata": {
        "id": "bHwT-szGYjYX"
      },
      "source": [
        "### Loading the base model"
      ]
    },
    {
      "cell_type": "markdown",
      "metadata": {
        "id": "8f0C4kD_Kv3N"
      },
      "source": [
        "https://keras.io/applications/"
      ]
    },
    {
      "cell_type": "code",
      "execution_count": null,
      "metadata": {
        "colab": {
          "base_uri": "https://localhost:8080/"
        },
        "id": "GB1-YzCMYeel",
        "outputId": "bd9adef0-1bf9-4ccc-eaaa-ead4777ef5e2"
      },
      "outputs": [
        {
          "output_type": "stream",
          "name": "stdout",
          "text": [
            "Downloading data from https://storage.googleapis.com/tensorflow/keras-applications/mobilenet_v2/mobilenet_v2_weights_tf_dim_ordering_tf_kernels_1.0_224_no_top.h5\n",
            "9412608/9406464 [==============================] - 0s 0us/step\n",
            "9420800/9406464 [==============================] - 0s 0us/step\n"
          ]
        }
      ],
      "source": [
        "# Base model\n",
        "base_net = keras.applications.MobileNetV2(input_shape=(224,224,3), weights='imagenet', include_top=False, pooling='avg')"
      ]
    },
    {
      "cell_type": "markdown",
      "metadata": {
        "id": "PCfEuu5ISb_L"
      },
      "source": [
        "Let's load a pretrained MobileNet (v2).\n",
        "*   ``weights`` specifies the dataset used for pretraining\n",
        "*   ``include_top`` specifies whether to import also the final fully-connected (Dense) layer, mapping to the cardinality of the original problem (1000 classes for imagenet)\n",
        "*   ``pooling`` specifies whether and how to aggregate the extracted features for each given image\n",
        "\n"
      ]
    },
    {
      "cell_type": "markdown",
      "metadata": {
        "id": "eMnlNIbvKUol"
      },
      "source": [
        "### Model information"
      ]
    },
    {
      "cell_type": "code",
      "execution_count": null,
      "metadata": {
        "colab": {
          "base_uri": "https://localhost:8080/"
        },
        "id": "-uj-Vn3Eorsy",
        "outputId": "a059b7a5-0084-4879-b303-0f7c432c4c15"
      },
      "outputs": [
        {
          "output_type": "execute_result",
          "data": {
            "text/plain": [
              "155"
            ]
          },
          "metadata": {},
          "execution_count": 12
        }
      ],
      "source": [
        "# Number of layers\n",
        "len(base_net.layers)"
      ]
    },
    {
      "cell_type": "markdown",
      "metadata": {
        "id": "5JwyFeEcZr3i"
      },
      "source": [
        "### Model specialization"
      ]
    },
    {
      "cell_type": "code",
      "execution_count": null,
      "metadata": {
        "id": "wqZdLroObk23"
      },
      "outputs": [],
      "source": [
        "# Freezing the base model (only for finetuning a pretrained model)\n",
        "for layer in base_net.layers:\n",
        "    layer.trainable = False"
      ]
    },
    {
      "cell_type": "markdown",
      "metadata": {
        "id": "TRvU7fzEsjtx"
      },
      "source": [
        "We want to keep (freeze) the weights of all layers that we ''inherited'' from the pretraining on imagenet.\n",
        "\n",
        "Any subsequent training will only work on the layers that are added in a later time."
      ]
    },
    {
      "cell_type": "code",
      "execution_count": null,
      "metadata": {
        "id": "jiDiQoLvZM_e"
      },
      "outputs": [],
      "source": [
        "# Explicit input layer\n",
        "inputs = keras.Input(shape=(224, 224, 3))\n",
        "x = inputs\n",
        "# Data augmentation\n",
        "# x = TODO(x)\n",
        "# Image preprocessing for consistency with the pretrained model\n",
        "x = keras.applications.mobilenet_v2.preprocess_input(x)\n",
        "# Output of the base model\n",
        "x = base_net(x)\n",
        "# New intermediate fully-connected layer + ReLU\n",
        "x = keras.layers.Dense(1024, activation='relu')(x)\n",
        "# New (final) fully-connected layer + SoftMax activation\n",
        "outputs = keras.layers.Dense(102, activation='softmax')(x)"
      ]
    },
    {
      "cell_type": "markdown",
      "metadata": {
        "id": "UJpks-KBFt-G"
      },
      "source": [
        "We are going to exploit a pre-trained MobileNet.\n",
        "\n",
        "We must preprocess our images using the exact same procedure that was used during the original training of the network, which we can inherit through ``mobilenet_v2.preprocess_input``"
      ]
    },
    {
      "cell_type": "markdown",
      "metadata": {
        "id": "hG4G8HJBrnuj"
      },
      "source": [
        "We have built a temporary extension of the base model, adding a first fully-connected layer mapping do 1024 dimensions, a ReLU non-linearity, and one final fully-connected mapping to the problem size (102 classes)."
      ]
    },
    {
      "cell_type": "code",
      "execution_count": null,
      "metadata": {
        "id": "vxrOFMY2asBl"
      },
      "outputs": [],
      "source": [
        "# Specialized model\n",
        "net = keras.Model(inputs=inputs, outputs=outputs)"
      ]
    },
    {
      "cell_type": "markdown",
      "metadata": {
        "id": "VEK0YySTr80t"
      },
      "source": [
        "We ''encapsulated'' everything into a new model, which we named ``net``, having the following interface:\n",
        "* input: a 224$\\times$224 placeholder\n",
        "* output: the output of the model extension (based on Dense layers) which we just defined"
      ]
    },
    {
      "cell_type": "code",
      "execution_count": null,
      "metadata": {
        "colab": {
          "base_uri": "https://localhost:8080/"
        },
        "id": "Ksr3oEcXEpiS",
        "outputId": "0943d1a6-b1a1-4e28-c07d-b016e6e6f7d9"
      },
      "outputs": [
        {
          "output_type": "stream",
          "name": "stdout",
          "text": [
            "Model: \"model\"\n",
            "_________________________________________________________________\n",
            " Layer (type)                Output Shape              Param #   \n",
            "=================================================================\n",
            " input_2 (InputLayer)        [(None, 224, 224, 3)]     0         \n",
            "                                                                 \n",
            " tf.math.truediv (TFOpLambda  (None, 224, 224, 3)      0         \n",
            " )                                                               \n",
            "                                                                 \n",
            " tf.math.subtract (TFOpLambd  (None, 224, 224, 3)      0         \n",
            " a)                                                              \n",
            "                                                                 \n",
            " mobilenetv2_1.00_224 (Funct  (None, 1280)             2257984   \n",
            " ional)                                                          \n",
            "                                                                 \n",
            " dense (Dense)               (None, 1024)              1311744   \n",
            "                                                                 \n",
            " dense_1 (Dense)             (None, 102)               104550    \n",
            "                                                                 \n",
            "=================================================================\n",
            "Total params: 3,674,278\n",
            "Trainable params: 1,416,294\n",
            "Non-trainable params: 2,257,984\n",
            "_________________________________________________________________\n"
          ]
        }
      ],
      "source": [
        "# Print some high-level summaries\n",
        "net.summary()"
      ]
    },
    {
      "cell_type": "code",
      "execution_count": null,
      "metadata": {
        "colab": {
          "base_uri": "https://localhost:8080/",
          "height": 564
        },
        "id": "nN9D3XPpEtSv",
        "outputId": "4771b1c5-cdc7-47d8-b797-3e771067c650"
      },
      "outputs": [
        {
          "output_type": "execute_result",
          "data": {
            "text/plain": [
              "<IPython.core.display.Image object>"
            ],
            "image/png": "[encoded data removed]"
          },
          "metadata": {},
          "execution_count": 19
        }
      ],
      "source": [
        "# Show a high-level architecture\n",
        "keras.utils.plot_model(net)"
      ]
    },
    {
      "cell_type": "markdown",
      "metadata": {
        "id": "SgJzoG7ii2KN"
      },
      "source": [
        "### Training (fine-tuning)"
      ]
    },
    {
      "cell_type": "code",
      "execution_count": null,
      "metadata": {
        "id": "HI94wb3KwQka"
      },
      "outputs": [],
      "source": [
        "# Compile the model for training\n",
        "net.compile(loss=keras.losses.categorical_crossentropy,\n",
        "            optimizer=keras.optimizers.RMSprop(),\n",
        "            metrics=['accuracy'])"
      ]
    },
    {
      "cell_type": "markdown",
      "metadata": {
        "id": "_XlDEwkN2hDL"
      },
      "source": [
        "\n",
        "\n",
        "We are now using ``fit()`` with a slightly-different syntax with respect to the previous exercise: we delegate to an external module (the data loader) the splitting of the dataset into minibatches:\n",
        "\n",
        "This formulation still handles indepdendently the various iterations (forward / back-propagation).\n",
        "\n",
        "```\n",
        "If x is a dataset, generator, or [...] y should not be specified (since targets will be obtained from x).\n",
        "[...]\n",
        "Do not specify the batch_size if your data is in the form of dataset, generator, or [...] (since they generate batches).\n",
        "```\n",
        "https://keras.io/api/models/model_training_apis/#fit-method"
      ]
    },
    {
      "cell_type": "code",
      "execution_count": null,
      "metadata": {
        "colab": {
          "base_uri": "https://localhost:8080/"
        },
        "id": "SWzIF5J8fWov",
        "outputId": "08cca148-9a21-46f9-c39b-4492b06591d8"
      },
      "outputs": [
        {
          "output_type": "stream",
          "name": "stdout",
          "text": [
            "Epoch 1/2\n",
            "144/144 [==============================] - 28s 106ms/step - loss: 1.1046 - accuracy: 0.7504 - val_loss: 0.5964 - val_accuracy: 0.8484\n",
            "Epoch 2/2\n",
            "144/144 [==============================] - 14s 98ms/step - loss: 0.2161 - accuracy: 0.9376 - val_loss: 0.4659 - val_accuracy: 0.8869\n"
          ]
        }
      ],
      "source": [
        "# Model training\n",
        "net.fit(train_dataset,\n",
        "          epochs=2,\n",
        "          validation_data=test_dataset);"
      ]
    },
    {
      "cell_type": "markdown",
      "metadata": {
        "id": "1oj-P9c-CjoV"
      },
      "source": [
        "Other potentially useful parameters include:\n",
        "*   ``steps_per_epoch``: to be computed by dividing the number of examples by ``batch_size``. It can be exploited to run fewer iterations at each epoch, and/or to run the end-epoch validation more frequently.\n",
        "*   ``validation_steps``: how many validation minibatches should be run at each validation session.\n",
        "\n"
      ]
    },
    {
      "cell_type": "markdown",
      "metadata": {
        "id": "HfX0gW_YAVmQ"
      },
      "source": [
        "**Note:**\n",
        "\n",
        "The model status is memorized inside its instance.\n",
        "\n",
        "So, calling ``fit()`` a second time, will result in resuming the training from where it was left.\n",
        "\n",
        "If you want to restart the fine-tuning from its initial status (**for example, to assess the effect of different forms of data augmentation**) it is necessary to reload the model and reinitialize the additional weights (see Section ''Model specialization'')."
      ]
    },
    {
      "cell_type": "markdown",
      "metadata": {
        "id": "4KktZmsBCcV0"
      },
      "source": [
        "### Evaluation"
      ]
    },
    {
      "cell_type": "markdown",
      "metadata": {
        "id": "zFvF4uqkDkt5"
      },
      "source": [
        "If the in-training evaluation is performed only with a subsample of the validation set (for example, by specifying the ``validation_steps`` parameter), it can be useful to run a final evaluation over the entire test set."
      ]
    },
    {
      "cell_type": "markdown",
      "metadata": {
        "id": "kIDQWWtWgWQx"
      },
      "source": [
        "https://keras.io/api/models/model_training_apis/#evaluate-method"
      ]
    },
    {
      "cell_type": "code",
      "execution_count": null,
      "metadata": {
        "colab": {
          "base_uri": "https://localhost:8080/"
        },
        "id": "v2Mb1xv1gNBd",
        "outputId": "981378b3-2ac7-43b2-ce0f-6b654c8368e3"
      },
      "outputs": [
        {
          "output_type": "stream",
          "name": "stdout",
          "text": [
            "142/142 [==============================] - 7s 51ms/step - loss: 0.4659 - accuracy: 0.8869\n"
          ]
        },
        {
          "output_type": "execute_result",
          "data": {
            "text/plain": [
              "[0.4658912420272827, 0.8868837952613831]"
            ]
          },
          "metadata": {},
          "execution_count": 22
        }
      ],
      "source": [
        "net.evaluate(test_dataset)"
      ]
    },
    {
      "cell_type": "markdown",
      "metadata": {
        "id": "c3NM1I6CnjzT"
      },
      "source": [
        "### Saving a model"
      ]
    },
    {
      "cell_type": "markdown",
      "metadata": {
        "id": "VHfBDuHIoYcO"
      },
      "source": [
        "It is possible to save to disk several pieces of information: architecture, weights, as well as the optimizer status:\n",
        "\n",
        "https://keras.io/api/models/model_saving_apis/"
      ]
    },
    {
      "cell_type": "code",
      "execution_count": null,
      "metadata": {
        "id": "KQfP8Qy4mwse"
      },
      "outputs": [],
      "source": [
        "# net = keras.models.load_model('mymodel_101.h5')"
      ]
    },
    {
      "cell_type": "markdown",
      "metadata": {
        "id": "lbBEcYdaha8O"
      },
      "source": [
        "## Assignment"
      ]
    },
    {
      "cell_type": "markdown",
      "source": [
        "### Loading the base model"
      ],
      "metadata": {
        "id": "sq0A5o0WKauF"
      }
    },
    {
      "cell_type": "code",
      "execution_count": null,
      "metadata": {
        "id": "6GSp0y8phwwe",
        "colab": {
          "base_uri": "https://localhost:8080/"
        },
        "outputId": "bea53b45-1cea-4937-be06-f591de30070d"
      },
      "outputs": [
        {
          "output_type": "stream",
          "name": "stdout",
          "text": [
            "Downloading data from https://storage.googleapis.com/tensorflow/keras-applications/resnet/resnet101_weights_tf_dim_ordering_tf_kernels_notop.h5\n",
            "171450368/171446536 [==============================] - 1s 0us/step\n",
            "171458560/171446536 [==============================] - 1s 0us/step\n"
          ]
        }
      ],
      "source": [
        "base_net_resnet = keras.applications.ResNet101(input_shape=(224,224,3), weights='imagenet', include_top=False,)"
      ]
    },
    {
      "cell_type": "markdown",
      "source": [
        "### Model specialization"
      ],
      "metadata": {
        "id": "ZqCtYkvoKk1M"
      }
    },
    {
      "cell_type": "code",
      "execution_count": null,
      "metadata": {
        "id": "SjgWo6Gpixfw"
      },
      "outputs": [],
      "source": [
        "for layer in base_net_resnet.layers:\n",
        "    layer.trainable = False"
      ]
    },
    {
      "cell_type": "code",
      "execution_count": null,
      "metadata": {
        "id": "0OLSETh8jFcT"
      },
      "outputs": [],
      "source": [
        "# Explicit input layer\n",
        "inputs = keras.Input(shape=(224, 224, 3))\n",
        "x = inputs\n",
        "# Data augmentation\n",
        "x = keras.layers.RandomFlip(mode= 'horizontal_and_vertical', seed=1)(x)\n",
        "x = keras.layers.RandomRotation(factor=0.2, fill_mode=\"reflect\",\n",
        "                                interpolation=\"bilinear\", seed=1,\n",
        "                                fill_value=0.0)(x)\n",
        "x = keras.layers.RandomContrast(factor= 0.8, seed=1)(x)\n",
        "# Image preprocessing for consistency with the pretrained model\n",
        "x = keras.applications.mobilenet_v2.preprocess_input(x)\n",
        "# Output of the base model\n",
        "x = base_net_resnet(x)\n",
        "x= keras.layers.Flatten()(x)\n",
        "# New intermediate fully-connected layer + ReLU\n",
        "x = keras.layers.Dense(1024, activation='relu')(x)\n",
        "# New (final) fully-connected layer + SoftMax activation\n",
        "outputs = keras.layers.Dense(102, activation='softmax')(x)"
      ]
    },
    {
      "cell_type": "code",
      "execution_count": null,
      "metadata": {
        "id": "VF5p2mttOzaI"
      },
      "outputs": [],
      "source": [
        "# Specialized model\n",
        "net_resnet = keras.Model(inputs=inputs, outputs=outputs)"
      ]
    },
    {
      "cell_type": "markdown",
      "source": [
        "### Training (fine-tuning)"
      ],
      "metadata": {
        "id": "bgcOoOUEKvgU"
      }
    },
    {
      "cell_type": "code",
      "execution_count": null,
      "metadata": {
        "id": "g-RAAA0nO3d5"
      },
      "outputs": [],
      "source": [
        "# Compile the model for training\n",
        "net_resnet.compile(loss=keras.losses.categorical_crossentropy,\n",
        "            optimizer=keras.optimizers.RMSprop(),\n",
        "            metrics=['accuracy'])"
      ]
    },
    {
      "cell_type": "code",
      "execution_count": null,
      "metadata": {
        "colab": {
          "base_uri": "https://localhost:8080/"
        },
        "id": "6EyWiPu3O9Cd",
        "outputId": "d40ea7b0-eed9-4146-f31a-2ef0813c9d97"
      },
      "outputs": [
        {
          "output_type": "stream",
          "name": "stdout",
          "text": [
            "Epoch 1/10\n",
            "144/144 [==============================] - 64s 395ms/step - loss: 17.3564 - accuracy: 0.1035 - val_loss: 3.9461 - val_accuracy: 0.1741\n",
            "Epoch 2/10\n",
            "144/144 [==============================] - 56s 386ms/step - loss: 4.1195 - accuracy: 0.1574 - val_loss: 3.7486 - val_accuracy: 0.2229\n",
            "Epoch 3/10\n",
            "144/144 [==============================] - 55s 384ms/step - loss: 4.0139 - accuracy: 0.1737 - val_loss: 3.6168 - val_accuracy: 0.2249\n",
            "Epoch 4/10\n",
            "144/144 [==============================] - 56s 386ms/step - loss: 3.8595 - accuracy: 0.2059 - val_loss: 3.5715 - val_accuracy: 0.2749\n",
            "Epoch 5/10\n",
            "144/144 [==============================] - 56s 385ms/step - loss: 3.7456 - accuracy: 0.2198 - val_loss: 3.4509 - val_accuracy: 0.2768\n",
            "Epoch 6/10\n",
            "144/144 [==============================] - 56s 385ms/step - loss: 3.6942 - accuracy: 0.2270 - val_loss: 3.6060 - val_accuracy: 0.2496\n",
            "Epoch 7/10\n",
            "144/144 [==============================] - 55s 383ms/step - loss: 3.6101 - accuracy: 0.2489 - val_loss: 3.5359 - val_accuracy: 0.2883\n",
            "Epoch 8/10\n",
            "144/144 [==============================] - 56s 385ms/step - loss: 3.6596 - accuracy: 0.2411 - val_loss: 3.3768 - val_accuracy: 0.3017\n",
            "Epoch 9/10\n",
            "144/144 [==============================] - 55s 385ms/step - loss: 3.5448 - accuracy: 0.2648 - val_loss: 4.1033 - val_accuracy: 0.2551\n",
            "Epoch 10/10\n",
            "144/144 [==============================] - 56s 385ms/step - loss: 3.5886 - accuracy: 0.2570 - val_loss: 3.2948 - val_accuracy: 0.3275\n"
          ]
        }
      ],
      "source": [
        "# Model training\n",
        "net_resnet.fit(train_dataset,\n",
        "          epochs=10,\n",
        "          validation_data=test_dataset);"
      ]
    },
    {
      "cell_type": "markdown",
      "source": [
        "### Evaluation"
      ],
      "metadata": {
        "id": "GoeQiOKqK1X5"
      }
    },
    {
      "cell_type": "code",
      "source": [
        "net_resnet.evaluate(test_dataset)"
      ],
      "metadata": {
        "colab": {
          "base_uri": "https://localhost:8080/"
        },
        "id": "CfaLqKvKK657",
        "outputId": "14002485-a892-4d0d-c1fc-326718342f2f"
      },
      "execution_count": null,
      "outputs": [
        {
          "output_type": "stream",
          "name": "stdout",
          "text": [
            "142/142 [==============================] - 24s 167ms/step - loss: 3.2948 - accuracy: 0.3275\n"
          ]
        },
        {
          "output_type": "execute_result",
          "data": {
            "text/plain": [
              "[3.2948009967803955, 0.3274647891521454]"
            ]
          },
          "metadata": {},
          "execution_count": 32
        }
      ]
    }
  ],
  "metadata": {
    "accelerator": "GPU",
    "colab": {
      "collapsed_sections": [],
      "name": "05_Quinto_Assignment.ipynb",
      "provenance": [],
      "include_colab_link": true
    },
    "gpuClass": "standard",
    "kernelspec": {
      "display_name": "Python 3",
      "name": "python3"
    }
  },
  "nbformat": 4,
  "nbformat_minor": 0
}