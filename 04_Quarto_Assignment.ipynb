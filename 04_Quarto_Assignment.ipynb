{
  "cells": [
    {
      "cell_type": "markdown",
      "metadata": {
        "id": "view-in-github",
        "colab_type": "text"
      },
      "source": [
        "<a href=\"https://colab.research.google.com/github/stemarzo/DISME/blob/main/04_Quarto_Assignment.ipynb\" target=\"_parent\"><img src=\"https://colab.research.google.com/assets/colab-badge.svg\" alt=\"Open In Colab\"/></a>"
      ]
    },
    {
      "cell_type": "markdown",
      "metadata": {
        "id": "6BXi_tNGwCyo"
      },
      "source": [
        "#QUARTO ASSIGNMENT: CONVOLUTIONAL NEURAL NETWORK"
      ]
    },
    {
      "cell_type": "code",
      "execution_count": null,
      "metadata": {
        "colab": {
          "base_uri": "https://localhost:8080/"
        },
        "id": "0kYoO2i_Z7_h",
        "outputId": "6fb7dbcc-2fa9-484d-9304-27272a443d11"
      },
      "outputs": [
        {
          "output_type": "execute_result",
          "data": {
            "text/plain": [
              "'2.8.0'"
            ],
            "application/vnd.google.colaboratory.intrinsic+json": {
              "type": "string"
            }
          },
          "metadata": {},
          "execution_count": 71
        }
      ],
      "source": [
        "from tensorflow import keras\n",
        "keras.__version__"
      ]
    },
    {
      "cell_type": "code",
      "execution_count": null,
      "metadata": {
        "id": "c3EV61VFcum4"
      },
      "outputs": [],
      "source": [
        "import numpy as np"
      ]
    },
    {
      "cell_type": "markdown",
      "source": [
        "##Esercitazione"
      ],
      "metadata": {
        "id": "QvtjBdTjMMM1"
      }
    },
    {
      "cell_type": "markdown",
      "metadata": {
        "id": "wFeDNlsHyJO9"
      },
      "source": [
        "### Dataset"
      ]
    },
    {
      "cell_type": "markdown",
      "metadata": {
        "id": "9NZ97NO0yQni"
      },
      "source": [
        "Loader già definito da keras, simile a quello fatto da noi per l'audio, ma già fornito"
      ]
    },
    {
      "cell_type": "code",
      "execution_count": null,
      "metadata": {
        "id": "kK3LLj7Xc38F"
      },
      "outputs": [],
      "source": [
        "(x_train, y_train), (x_test, y_test) = keras.datasets.mnist.load_data()"
      ]
    },
    {
      "cell_type": "markdown",
      "metadata": {
        "id": "HDnKbQ1nzS4D"
      },
      "source": [
        "### Esplorazione del dataset"
      ]
    },
    {
      "cell_type": "code",
      "execution_count": null,
      "metadata": {
        "colab": {
          "base_uri": "https://localhost:8080/"
        },
        "id": "ha9HsjSUe4aZ",
        "outputId": "eba3132c-da0b-4229-d4c1-930bd5aeb684"
      },
      "outputs": [
        {
          "output_type": "execute_result",
          "data": {
            "text/plain": [
              "(60000, 28, 28)"
            ]
          },
          "metadata": {},
          "execution_count": 74
        }
      ],
      "source": [
        "x_train.shape"
      ]
    },
    {
      "cell_type": "code",
      "execution_count": null,
      "metadata": {
        "colab": {
          "base_uri": "https://localhost:8080/"
        },
        "id": "m3_MPEWDfIw6",
        "outputId": "8e33b53b-0b8a-4132-f80c-bc5bbee8d38c"
      },
      "outputs": [
        {
          "output_type": "execute_result",
          "data": {
            "text/plain": [
              "<matplotlib.image.AxesImage at 0x7f40205fac90>"
            ]
          },
          "metadata": {},
          "execution_count": 75
        },
        {
          "output_type": "display_data",
          "data": {
            "text/plain": [
              "<Figure size 432x288 with 1 Axes>"
            ],
            "image/png": "[encoded data removed]"
          },
          "metadata": {
            "needs_background": "light"
          }
        }
      ],
      "source": [
        "from matplotlib import pyplot as plt\n",
        "plt.imshow(x_train[0], cmap=\"gray\")"
      ]
    },
    {
      "cell_type": "markdown",
      "metadata": {
        "id": "J97vkAUV0aan"
      },
      "source": [
        "### Preprocessing"
      ]
    },
    {
      "cell_type": "markdown",
      "metadata": {
        "id": "EZjyiNJazb3G"
      },
      "source": [
        "Aggiungiamo una dimensione fittizia, in quanto si aspettano una immagine a 4 canali"
      ]
    },
    {
      "cell_type": "code",
      "execution_count": null,
      "metadata": {
        "id": "x2cHJ4ENfhdS"
      },
      "outputs": [],
      "source": [
        "x_train = np.expand_dims(x_train, axis=-1)\n",
        "x_test = np.expand_dims(x_test, axis=-1)"
      ]
    },
    {
      "cell_type": "code",
      "execution_count": null,
      "metadata": {
        "colab": {
          "base_uri": "https://localhost:8080/"
        },
        "id": "NBKUPxBTgBYA",
        "outputId": "85116b65-d70d-427d-a709-57c285bdfdc3"
      },
      "outputs": [
        {
          "output_type": "execute_result",
          "data": {
            "text/plain": [
              "(60000, 28, 28, 1)"
            ]
          },
          "metadata": {},
          "execution_count": 77
        }
      ],
      "source": [
        "x_train.shape"
      ]
    },
    {
      "cell_type": "code",
      "execution_count": null,
      "metadata": {
        "colab": {
          "base_uri": "https://localhost:8080/"
        },
        "id": "wgj8OGKNgawK",
        "outputId": "aac8c19d-cb9c-4563-cc57-8c22c3c90552"
      },
      "outputs": [
        {
          "output_type": "execute_result",
          "data": {
            "text/plain": [
              "array([170], dtype=uint8)"
            ]
          },
          "metadata": {},
          "execution_count": 78
        }
      ],
      "source": [
        "x_train[0,6,12]"
      ]
    },
    {
      "cell_type": "markdown",
      "metadata": {
        "id": "F_BYj9WT0LbV"
      },
      "source": [
        "riscalo i valori nell'intervallo tra 0 e 1"
      ]
    },
    {
      "cell_type": "code",
      "execution_count": null,
      "metadata": {
        "id": "hqyz_WAoglYv"
      },
      "outputs": [],
      "source": [
        "x_train = x_train.astype('float32')/255.0\n",
        "x_test = x_test.astype('float32')/255.0"
      ]
    },
    {
      "cell_type": "code",
      "execution_count": null,
      "metadata": {
        "colab": {
          "base_uri": "https://localhost:8080/"
        },
        "id": "9vlb69zIhHW5",
        "outputId": "fdc808c2-34b2-40ed-b95a-75b3bd11be2f"
      },
      "outputs": [
        {
          "output_type": "execute_result",
          "data": {
            "text/plain": [
              "array([0.6666667], dtype=float32)"
            ]
          },
          "metadata": {},
          "execution_count": 80
        }
      ],
      "source": [
        "x_train[0,6,12]"
      ]
    },
    {
      "cell_type": "markdown",
      "metadata": {
        "id": "r-HHqV_F0Uar"
      },
      "source": [
        "Etichette corrispondenti al numero rappresentato"
      ]
    },
    {
      "cell_type": "code",
      "execution_count": null,
      "metadata": {
        "colab": {
          "base_uri": "https://localhost:8080/"
        },
        "id": "8EM0DUTkhSBn",
        "outputId": "67e806bc-3dfd-451f-bca4-2be81ec578c8"
      },
      "outputs": [
        {
          "output_type": "execute_result",
          "data": {
            "text/plain": [
              "(60000,)"
            ]
          },
          "metadata": {},
          "execution_count": 81
        }
      ],
      "source": [
        "y_train.shape"
      ]
    },
    {
      "cell_type": "code",
      "execution_count": null,
      "metadata": {
        "colab": {
          "base_uri": "https://localhost:8080/"
        },
        "id": "CtmTEA8JhVM4",
        "outputId": "9f82cb35-79ca-495f-f939-6bda78ec0392"
      },
      "outputs": [
        {
          "output_type": "execute_result",
          "data": {
            "text/plain": [
              "5"
            ]
          },
          "metadata": {},
          "execution_count": 82
        }
      ],
      "source": [
        "y_train[0]"
      ]
    },
    {
      "cell_type": "markdown",
      "metadata": {
        "id": "k7MrDJDfhazW"
      },
      "source": [
        "trasformare le etichette in formato categorico \\\\\n",
        "5 -> [0 0 0 0 0 1 0 0 0 0] \\\\\n",
        "7 -> [0 0 0 0 0 0 0 1 0 0] \\\\\n",
        "one hot encoding"
      ]
    },
    {
      "cell_type": "code",
      "execution_count": null,
      "metadata": {
        "id": "LhY_LqlWhZP_"
      },
      "outputs": [],
      "source": [
        "yc_train = keras.utils.to_categorical(y_train, 10)\n",
        "yc_test = keras.utils.to_categorical(y_test, 10)"
      ]
    },
    {
      "cell_type": "code",
      "execution_count": null,
      "metadata": {
        "colab": {
          "base_uri": "https://localhost:8080/"
        },
        "id": "w98VtNYxiNXZ",
        "outputId": "1603f051-83a5-44a6-a399-7ced7fed2ad4"
      },
      "outputs": [
        {
          "output_type": "execute_result",
          "data": {
            "text/plain": [
              "array([0., 0., 0., 0., 0., 1., 0., 0., 0., 0.], dtype=float32)"
            ]
          },
          "metadata": {},
          "execution_count": 85
        }
      ],
      "source": [
        "yc_train[0]"
      ]
    },
    {
      "cell_type": "markdown",
      "metadata": {
        "id": "jlGTj-dF1Ay0"
      },
      "source": [
        "### Fully Connected Model"
      ]
    },
    {
      "cell_type": "markdown",
      "metadata": {
        "id": "-wd46TX51Knq"
      },
      "source": [
        "modello di tipo sequenzale i risultati passano attraverso i layer che manipolano uno dopo l'altro"
      ]
    },
    {
      "cell_type": "code",
      "execution_count": null,
      "metadata": {
        "id": "avhcABhbiog-"
      },
      "outputs": [],
      "source": [
        "model = keras.Sequential() #cioè prendo input elaboro con un layer, passo al layer dopo etc. \n",
        "model.add(keras.Input((28,28,1))) #dice la grandezza delle dimensioni dell'input\n",
        "model.add(keras.layers.Flatten()) #non manipola i valori dentro l'immagine, ma li distribuisce su un solo vettore, ed ha senso su un esempio così semplice.\n",
        "model.add(keras.layers.Dense(10, activation='softmax')) #softmax, va sempre messo con la classificazione"
      ]
    },
    {
      "cell_type": "code",
      "execution_count": null,
      "metadata": {
        "id": "JWg07EIaJm4Q"
      },
      "outputs": [],
      "source": [
        "model.compile(loss= keras.losses.categorical_crossentropy, #confronta le etichette con la nostra risposta e ha info su come migliorare la rete\n",
        "              optimizer=keras.optimizers.Adadelta(),\n",
        "              metrics=['Accuracy'])"
      ]
    },
    {
      "cell_type": "code",
      "execution_count": null,
      "metadata": {
        "colab": {
          "base_uri": "https://localhost:8080/"
        },
        "id": "k3BL5AOOJrgo",
        "outputId": "b19d1c2e-e992-4bbb-c7bd-9f8901af5f6c"
      },
      "outputs": [
        {
          "output_type": "stream",
          "name": "stdout",
          "text": [
            "Epoch 1/10\n",
            "469/469 [==============================] - 2s 4ms/step - loss: 2.3761 - Accuracy: 0.0930 - val_loss: 2.3573 - val_Accuracy: 0.1020\n",
            "Epoch 2/10\n",
            "469/469 [==============================] - 2s 4ms/step - loss: 2.3442 - Accuracy: 0.1070 - val_loss: 2.3236 - val_Accuracy: 0.1174\n",
            "Epoch 3/10\n",
            "469/469 [==============================] - 2s 4ms/step - loss: 2.3107 - Accuracy: 0.1238 - val_loss: 2.2888 - val_Accuracy: 0.1350\n",
            "Epoch 4/10\n",
            "469/469 [==============================] - 2s 4ms/step - loss: 2.2765 - Accuracy: 0.1451 - val_loss: 2.2535 - val_Accuracy: 0.1569\n",
            "Epoch 5/10\n",
            "469/469 [==============================] - 2s 4ms/step - loss: 2.2422 - Accuracy: 0.1687 - val_loss: 2.2184 - val_Accuracy: 0.1826\n",
            "Epoch 6/10\n",
            "469/469 [==============================] - 2s 4ms/step - loss: 2.2081 - Accuracy: 0.1939 - val_loss: 2.1837 - val_Accuracy: 0.2111\n",
            "Epoch 7/10\n",
            "469/469 [==============================] - 2s 4ms/step - loss: 2.1743 - Accuracy: 0.2218 - val_loss: 2.1493 - val_Accuracy: 0.2380\n",
            "Epoch 8/10\n",
            "469/469 [==============================] - 2s 4ms/step - loss: 2.1409 - Accuracy: 0.2514 - val_loss: 2.1154 - val_Accuracy: 0.2699\n",
            "Epoch 9/10\n",
            "469/469 [==============================] - 2s 4ms/step - loss: 2.1081 - Accuracy: 0.2798 - val_loss: 2.0822 - val_Accuracy: 0.3000\n",
            "Epoch 10/10\n",
            "469/469 [==============================] - 2s 4ms/step - loss: 2.0759 - Accuracy: 0.3083 - val_loss: 2.0495 - val_Accuracy: 0.3323\n"
          ]
        },
        {
          "output_type": "execute_result",
          "data": {
            "text/plain": [
              "<keras.callbacks.History at 0x7f3fa5ba3690>"
            ]
          },
          "metadata": {},
          "execution_count": 88
        }
      ],
      "source": [
        "model.fit(x_train, yc_train, batch_size=128, epochs=10, \n",
        "          verbose=1, validation_data=(x_test, yc_test))"
      ]
    },
    {
      "cell_type": "markdown",
      "metadata": {
        "id": "Dci_mMhc1vE6"
      },
      "source": [
        "i dieci neuroni di output sono la risposta che ci da la nostra rete neurale "
      ]
    },
    {
      "cell_type": "code",
      "execution_count": null,
      "metadata": {
        "id": "hV65KS-rpP0A"
      },
      "outputs": [],
      "source": [
        "model = keras.Sequential() #cioè prendo input elaboro con un layer, passo al layer dopo etc. \n",
        "model.add(keras.Input((28,28,1))) #dice la grandezza delle dimensioni dell'input\n",
        "model.add(keras.layers.Flatten()) #non manipola i valori dentro l'immagine, ma li distribuisce su un solo vettore, ed ha senso su un esempio così semplice.\n",
        "model.add(keras.layers.Dense(128, activation='relu'))\n",
        "model.add(keras.layers.Dense(10, activation='softmax'))"
      ]
    },
    {
      "cell_type": "code",
      "execution_count": null,
      "metadata": {
        "id": "dhZLZso8lH2n"
      },
      "outputs": [],
      "source": [
        "model.compile(loss= keras.losses.categorical_crossentropy,\n",
        "              optimizer=keras.optimizers.Adadelta(),\n",
        "              metrics=['Accuracy'])"
      ]
    },
    {
      "cell_type": "code",
      "execution_count": null,
      "metadata": {
        "colab": {
          "base_uri": "https://localhost:8080/"
        },
        "id": "vlIMZDdqn0gr",
        "outputId": "b6e1760c-dc8d-48a5-ca90-bf5066d3d233"
      },
      "outputs": [
        {
          "output_type": "stream",
          "name": "stdout",
          "text": [
            "Epoch 1/10\n",
            "469/469 [==============================] - 3s 5ms/step - loss: 2.4115 - Accuracy: 0.0923 - val_loss: 2.3661 - val_Accuracy: 0.1019\n",
            "Epoch 2/10\n",
            "469/469 [==============================] - 2s 4ms/step - loss: 2.3302 - Accuracy: 0.1143 - val_loss: 2.2859 - val_Accuracy: 0.1316\n",
            "Epoch 3/10\n",
            "469/469 [==============================] - 2s 4ms/step - loss: 2.2537 - Accuracy: 0.1514 - val_loss: 2.2101 - val_Accuracy: 0.1776\n",
            "Epoch 4/10\n",
            "469/469 [==============================] - 2s 4ms/step - loss: 2.1810 - Accuracy: 0.2043 - val_loss: 2.1374 - val_Accuracy: 0.2416\n",
            "Epoch 5/10\n",
            "469/469 [==============================] - 2s 4ms/step - loss: 2.1108 - Accuracy: 0.2736 - val_loss: 2.0666 - val_Accuracy: 0.3254\n",
            "Epoch 6/10\n",
            "469/469 [==============================] - 2s 4ms/step - loss: 2.0422 - Accuracy: 0.3516 - val_loss: 1.9972 - val_Accuracy: 0.4026\n",
            "Epoch 7/10\n",
            "469/469 [==============================] - 2s 4ms/step - loss: 1.9751 - Accuracy: 0.4221 - val_loss: 1.9291 - val_Accuracy: 0.4641\n",
            "Epoch 8/10\n",
            "469/469 [==============================] - 2s 4ms/step - loss: 1.9090 - Accuracy: 0.4841 - val_loss: 1.8618 - val_Accuracy: 0.5216\n",
            "Epoch 9/10\n",
            "469/469 [==============================] - 2s 4ms/step - loss: 1.8439 - Accuracy: 0.5338 - val_loss: 1.7958 - val_Accuracy: 0.5654\n",
            "Epoch 10/10\n",
            "469/469 [==============================] - 2s 4ms/step - loss: 1.7802 - Accuracy: 0.5732 - val_loss: 1.7315 - val_Accuracy: 0.6005\n"
          ]
        },
        {
          "output_type": "execute_result",
          "data": {
            "text/plain": [
              "<keras.callbacks.History at 0x7f3f305f2050>"
            ]
          },
          "metadata": {},
          "execution_count": 98
        }
      ],
      "source": [
        "model.fit(x_train, yc_train, batch_size=128, epochs=10, \n",
        "          verbose=1, validation_data=(x_test, yc_test))"
      ]
    },
    {
      "cell_type": "code",
      "execution_count": null,
      "metadata": {
        "id": "Kt5r6SAqqlDg"
      },
      "outputs": [],
      "source": [
        "score = model.evaluate(x_test, yc_test, verbose=0)"
      ]
    },
    {
      "cell_type": "code",
      "execution_count": null,
      "metadata": {
        "colab": {
          "base_uri": "https://localhost:8080/"
        },
        "id": "L9jOyez8qrxv",
        "outputId": "bc604e01-659a-4b88-c04a-e18e33745fd5"
      },
      "outputs": [
        {
          "output_type": "execute_result",
          "data": {
            "text/plain": [
              "0.6004999876022339"
            ]
          },
          "metadata": {},
          "execution_count": 101
        }
      ],
      "source": [
        "score[1]"
      ]
    },
    {
      "cell_type": "code",
      "execution_count": null,
      "metadata": {
        "id": "6YS-wLV5q_K3"
      },
      "outputs": [],
      "source": [
        "yc_pred = model.predict(x_test)"
      ]
    },
    {
      "cell_type": "code",
      "execution_count": null,
      "metadata": {
        "colab": {
          "base_uri": "https://localhost:8080/"
        },
        "id": "6Y8YutLyrFep",
        "outputId": "2d2dbdf6-96b6-4de7-a2a9-e4a8f9c3d0a4"
      },
      "outputs": [
        {
          "output_type": "execute_result",
          "data": {
            "text/plain": [
              "array([0.08533619, 0.07966439, 0.21307142, 0.11575572, 0.03910577,\n",
              "       0.11687014, 0.1460139 , 0.02809788, 0.11156641, 0.0645182 ],\n",
              "      dtype=float32)"
            ]
          },
          "metadata": {},
          "execution_count": 103
        }
      ],
      "source": [
        "yc_pred[1]"
      ]
    },
    {
      "cell_type": "code",
      "execution_count": null,
      "metadata": {
        "colab": {
          "base_uri": "https://localhost:8080/",
          "height": 283
        },
        "id": "G2us9ApDrNY4",
        "outputId": "c15a201a-3782-4513-bd8a-9bf559a9124c"
      },
      "outputs": [
        {
          "output_type": "execute_result",
          "data": {
            "text/plain": [
              "<matplotlib.image.AxesImage at 0x7f3f30fb7b90>"
            ]
          },
          "metadata": {},
          "execution_count": 104
        },
        {
          "output_type": "display_data",
          "data": {
            "text/plain": [
              "<Figure size 432x288 with 1 Axes>"
            ],
            "image/png": "[encoded data removed]"
          },
          "metadata": {
            "needs_background": "light"
          }
        }
      ],
      "source": [
        "plt.imshow(x_test[1,:,:,0])"
      ]
    },
    {
      "cell_type": "markdown",
      "metadata": {
        "id": "ZGoRTEEDbD7v"
      },
      "source": [
        "## Assignment"
      ]
    },
    {
      "cell_type": "markdown",
      "source": [
        "###Dati mnist"
      ],
      "metadata": {
        "id": "-PsL-iS4NXwQ"
      }
    },
    {
      "cell_type": "code",
      "execution_count": null,
      "metadata": {
        "id": "qiKrDja7cb1L"
      },
      "outputs": [],
      "source": [
        "model = keras.Sequential() \n",
        "model.add(keras.Input((28,28,1))) \n",
        "model.add(keras.layers.Conv2D(32, (3, 3), activation=\"relu\"))\n",
        "model.add(keras.layers.MaxPooling2D(pool_size=(2, 2), strides=2))\n",
        "model.add(keras.layers.Flatten())\n",
        "model.add(keras.layers.Dense(128))\n",
        "model.add(keras.layers.Activation(keras.activations.relu))\n",
        "model.add(keras.layers.Dense(10, activation='softmax'))"
      ]
    },
    {
      "cell_type": "code",
      "execution_count": null,
      "metadata": {
        "id": "bslsLUvRZ2X1"
      },
      "outputs": [],
      "source": [
        "model.compile(loss= keras.losses.categorical_crossentropy,\n",
        "              optimizer=keras.optimizers.Adadelta(),\n",
        "              metrics=['Accuracy'])"
      ]
    },
    {
      "cell_type": "code",
      "execution_count": null,
      "metadata": {
        "colab": {
          "base_uri": "https://localhost:8080/"
        },
        "id": "oXKWSrc6Z81Y",
        "outputId": "f9c9197d-2314-4165-9052-b9e1eaa37cd2"
      },
      "outputs": [
        {
          "output_type": "stream",
          "name": "stdout",
          "text": [
            "Epoch 1/10\n",
            "469/469 [==============================] - 4s 9ms/step - loss: 2.2753 - Accuracy: 0.1618 - val_loss: 2.2460 - val_Accuracy: 0.2177\n",
            "Epoch 2/10\n",
            "469/469 [==============================] - 4s 9ms/step - loss: 2.2142 - Accuracy: 0.2912 - val_loss: 2.1778 - val_Accuracy: 0.3657\n",
            "Epoch 3/10\n",
            "469/469 [==============================] - 4s 8ms/step - loss: 2.1418 - Accuracy: 0.4355 - val_loss: 2.0998 - val_Accuracy: 0.5068\n",
            "Epoch 4/10\n",
            "469/469 [==============================] - 4s 8ms/step - loss: 2.0600 - Accuracy: 0.5504 - val_loss: 2.0128 - val_Accuracy: 0.5981\n",
            "Epoch 5/10\n",
            "469/469 [==============================] - 4s 8ms/step - loss: 1.9691 - Accuracy: 0.6256 - val_loss: 1.9157 - val_Accuracy: 0.6535\n",
            "Epoch 6/10\n",
            "469/469 [==============================] - 4s 8ms/step - loss: 1.8674 - Accuracy: 0.6749 - val_loss: 1.8074 - val_Accuracy: 0.6972\n",
            "Epoch 7/10\n",
            "469/469 [==============================] - 4s 8ms/step - loss: 1.7558 - Accuracy: 0.7110 - val_loss: 1.6909 - val_Accuracy: 0.7275\n",
            "Epoch 8/10\n",
            "469/469 [==============================] - 4s 8ms/step - loss: 1.6384 - Accuracy: 0.7381 - val_loss: 1.5703 - val_Accuracy: 0.7511\n",
            "Epoch 9/10\n",
            "469/469 [==============================] - 4s 9ms/step - loss: 1.5186 - Accuracy: 0.7582 - val_loss: 1.4485 - val_Accuracy: 0.7721\n",
            "Epoch 10/10\n",
            "469/469 [==============================] - 4s 8ms/step - loss: 1.3992 - Accuracy: 0.7749 - val_loss: 1.3290 - val_Accuracy: 0.7885\n"
          ]
        }
      ],
      "source": [
        "model.fit(x_train, yc_train, batch_size=128, epochs=10, \n",
        "          verbose=1, validation_data=(x_test, yc_test))"
      ]
    },
    {
      "cell_type": "code",
      "execution_count": null,
      "metadata": {
        "id": "LlneBmlkaPsm"
      },
      "outputs": [],
      "source": [
        "score = model.evaluate(x_test, yc_test, verbose=0)"
      ]
    },
    {
      "cell_type": "code",
      "execution_count": null,
      "metadata": {
        "colab": {
          "base_uri": "https://localhost:8080/"
        },
        "id": "RYG_dxnsaTG-",
        "outputId": "9ab2eda9-f805-4e8e-a2c7-39dcddfaf604"
      },
      "outputs": [
        {
          "output_type": "execute_result",
          "data": {
            "text/plain": [
              "1.3289800882339478"
            ]
          },
          "metadata": {},
          "execution_count": 110
        }
      ],
      "source": [
        "score[0]"
      ]
    },
    {
      "cell_type": "code",
      "execution_count": null,
      "metadata": {
        "colab": {
          "base_uri": "https://localhost:8080/"
        },
        "id": "Zcm1ekvfhWLI",
        "outputId": "d2393631-4113-4327-8749-837e89def5dd"
      },
      "outputs": [
        {
          "output_type": "execute_result",
          "data": {
            "text/plain": [
              "0.7885000109672546"
            ]
          },
          "metadata": {},
          "execution_count": 111
        }
      ],
      "source": [
        "score[1]"
      ]
    },
    {
      "cell_type": "code",
      "execution_count": null,
      "metadata": {
        "id": "j748fXTyaZCO"
      },
      "outputs": [],
      "source": [
        "yc_pred = model.predict(x_test)"
      ]
    },
    {
      "cell_type": "code",
      "execution_count": null,
      "metadata": {
        "colab": {
          "base_uri": "https://localhost:8080/"
        },
        "id": "vjQrQnQeacG7",
        "outputId": "30619be7-0f94-4af6-9112-b5613f4a0fbf"
      },
      "outputs": [
        {
          "output_type": "execute_result",
          "data": {
            "text/plain": [
              "array([0.0639873 , 0.05741798, 0.25380588, 0.1998516 , 0.02555311,\n",
              "       0.12047096, 0.14377958, 0.01023686, 0.09186979, 0.03302696],\n",
              "      dtype=float32)"
            ]
          },
          "metadata": {},
          "execution_count": 113
        }
      ],
      "source": [
        "yc_pred[1]"
      ]
    },
    {
      "cell_type": "code",
      "source": [
        "plt.imshow(x_test[1,:,:,0])"
      ],
      "metadata": {
        "colab": {
          "base_uri": "https://localhost:8080/",
          "height": 283
        },
        "id": "r4cNlxZDMjUp",
        "outputId": "2c7e48d7-fc08-4f4e-9d68-9571fc28cdc3"
      },
      "execution_count": null,
      "outputs": [
        {
          "output_type": "execute_result",
          "data": {
            "text/plain": [
              "<matplotlib.image.AxesImage at 0x7f3fa7717c50>"
            ]
          },
          "metadata": {},
          "execution_count": 36
        },
        {
          "output_type": "display_data",
          "data": {
            "text/plain": [
              "<Figure size 432x288 with 1 Axes>"
            ],
            "image/png": "[encoded data removed]"
          },
          "metadata": {
            "needs_background": "light"
          }
        }
      ]
    },
    {
      "cell_type": "markdown",
      "source": [
        "###Dati Cifar"
      ],
      "metadata": {
        "id": "rruPVpfXMu7N"
      }
    },
    {
      "cell_type": "code",
      "execution_count": null,
      "metadata": {
        "id": "387QxXuccA9o"
      },
      "outputs": [],
      "source": [
        "import ssl\n",
        "ssl._create_default_https_context = ssl._create_unverified_context\n",
        "\n",
        "(x_train_cifar, y_train_cifar), (x_test_cifar, y_test_cifar) = keras.datasets.cifar10.load_data()"
      ]
    },
    {
      "cell_type": "code",
      "source": [
        "x_train_cifar.shape"
      ],
      "metadata": {
        "colab": {
          "base_uri": "https://localhost:8080/"
        },
        "id": "IpVVIcnJNkOu",
        "outputId": "81393e89-8dd0-4907-cfd7-e1aca81b777b"
      },
      "execution_count": null,
      "outputs": [
        {
          "output_type": "execute_result",
          "data": {
            "text/plain": [
              "(50000, 32, 32, 3)"
            ]
          },
          "metadata": {},
          "execution_count": 62
        }
      ]
    },
    {
      "cell_type": "code",
      "source": [
        "from matplotlib import pyplot as plt\n",
        "plt.imshow(x_train_cifar[0], cmap=\"gray\")"
      ],
      "metadata": {
        "colab": {
          "base_uri": "https://localhost:8080/",
          "height": 283
        },
        "id": "3evZhKzONtE9",
        "outputId": "d2427a78-0d7b-4669-86d5-fb84c5c18806"
      },
      "execution_count": null,
      "outputs": [
        {
          "output_type": "execute_result",
          "data": {
            "text/plain": [
              "<matplotlib.image.AxesImage at 0x7f3fa5e07c50>"
            ]
          },
          "metadata": {},
          "execution_count": 43
        },
        {
          "output_type": "display_data",
          "data": {
            "text/plain": [
              "<Figure size 432x288 with 1 Axes>"
            ],
            "image/png": "[encoded data removed]"
          },
          "metadata": {
            "needs_background": "light"
          }
        }
      ]
    },
    {
      "cell_type": "code",
      "source": [
        "x_train_cifar[0,6,12]"
      ],
      "metadata": {
        "colab": {
          "base_uri": "https://localhost:8080/"
        },
        "id": "VJgeQXBQOGfQ",
        "outputId": "c6fb6025-4534-428a-b6a4-608f5b258664"
      },
      "execution_count": null,
      "outputs": [
        {
          "output_type": "execute_result",
          "data": {
            "text/plain": [
              "array([107,  71,  34], dtype=uint8)"
            ]
          },
          "metadata": {},
          "execution_count": 63
        }
      ]
    },
    {
      "cell_type": "code",
      "source": [
        "y_train_cifar[1]"
      ],
      "metadata": {
        "colab": {
          "base_uri": "https://localhost:8080/"
        },
        "id": "V_kAvreDOXNa",
        "outputId": "06db7fa0-7f6a-4ebb-c7bb-8db72dba7140"
      },
      "execution_count": null,
      "outputs": [
        {
          "output_type": "execute_result",
          "data": {
            "text/plain": [
              "array([9], dtype=uint8)"
            ]
          },
          "metadata": {},
          "execution_count": 64
        }
      ]
    },
    {
      "cell_type": "code",
      "source": [
        "yc_train_cifar = keras.utils.to_categorical(y_train_cifar, 10)\n",
        "yc_test_cifar = keras.utils.to_categorical(y_test_cifar, 10)"
      ],
      "metadata": {
        "id": "7FEFZQ7WOl_n"
      },
      "execution_count": null,
      "outputs": []
    },
    {
      "cell_type": "code",
      "source": [
        "yc_train_cifar[1]"
      ],
      "metadata": {
        "colab": {
          "base_uri": "https://localhost:8080/"
        },
        "id": "c1YrTdNyOy45",
        "outputId": "2d33c15c-54c9-4bb0-a452-1ee9b7635419"
      },
      "execution_count": null,
      "outputs": [
        {
          "output_type": "execute_result",
          "data": {
            "text/plain": [
              "array([0., 0., 0., 0., 0., 0., 0., 0., 0., 1.], dtype=float32)"
            ]
          },
          "metadata": {},
          "execution_count": 66
        }
      ]
    },
    {
      "cell_type": "code",
      "source": [
        "x_train_cifar = x_train_cifar.astype('float32')/255.0\n",
        "x_test_cifar = x_test_cifar.astype('float32')/255.0"
      ],
      "metadata": {
        "id": "TvDJSKOpQL-f"
      },
      "execution_count": null,
      "outputs": []
    },
    {
      "cell_type": "code",
      "source": [
        "x_train_cifar[0,6,12]"
      ],
      "metadata": {
        "colab": {
          "base_uri": "https://localhost:8080/"
        },
        "id": "xam-sgB8QZi3",
        "outputId": "69291661-77bb-4963-d10d-1334c0f5f9e2"
      },
      "execution_count": null,
      "outputs": [
        {
          "output_type": "execute_result",
          "data": {
            "text/plain": [
              "array([0.41960785, 0.2784314 , 0.13333334], dtype=float32)"
            ]
          },
          "metadata": {},
          "execution_count": 70
        }
      ]
    },
    {
      "cell_type": "code",
      "source": [
        "model = keras.Sequential() \n",
        "model.add(keras.Input((32,32,3))) \n",
        "model.add(keras.layers.Conv2D(32, (3, 3), activation=\"relu\"))\n",
        "model.add(keras.layers.MaxPooling2D(pool_size=(2, 2), strides=2))\n",
        "model.add(keras.layers.Flatten())\n",
        "model.add(keras.layers.Dense(128))\n",
        "model.add(keras.layers.Activation(keras.activations.relu))\n",
        "model.add(keras.layers.Dense(10, activation='softmax'))"
      ],
      "metadata": {
        "id": "pXEINuFeTII9"
      },
      "execution_count": null,
      "outputs": []
    },
    {
      "cell_type": "code",
      "source": [
        "model.compile(loss= keras.losses.categorical_crossentropy,\n",
        "              optimizer=keras.optimizers.Adadelta(),\n",
        "              metrics=['Accuracy'])"
      ],
      "metadata": {
        "id": "9DDxgSesQxKx"
      },
      "execution_count": null,
      "outputs": []
    },
    {
      "cell_type": "code",
      "source": [
        "model.fit(x_train_cifar, yc_train_cifar, batch_size=128, epochs=10, \n",
        "          verbose=1, validation_data=(x_test_cifar, yc_test_cifar))"
      ],
      "metadata": {
        "id": "ERmi09fuSpkO"
      },
      "execution_count": null,
      "outputs": []
    },
    {
      "cell_type": "code",
      "source": [
        "score = model.evaluate(x_test_cifar, yc_test_cifar, verbose=0)"
      ],
      "metadata": {
        "id": "D3V5kGe4UpUl"
      },
      "execution_count": null,
      "outputs": []
    },
    {
      "cell_type": "code",
      "source": [
        "score[0]"
      ],
      "metadata": {
        "colab": {
          "base_uri": "https://localhost:8080/"
        },
        "id": "tsDMXZOZU4UQ",
        "outputId": "f7d9677a-c63e-4914-d2b5-823b2e544e88"
      },
      "execution_count": null,
      "outputs": [
        {
          "output_type": "execute_result",
          "data": {
            "text/plain": [
              "3.029388189315796"
            ]
          },
          "metadata": {},
          "execution_count": 125
        }
      ]
    },
    {
      "cell_type": "code",
      "source": [
        "yc_pred = model.predict(x_test_cifar)"
      ],
      "metadata": {
        "id": "h36VzmFkVBqb"
      },
      "execution_count": null,
      "outputs": []
    },
    {
      "cell_type": "code",
      "source": [
        "yc_pred[1]"
      ],
      "metadata": {
        "colab": {
          "base_uri": "https://localhost:8080/"
        },
        "id": "Sfp583uNVI3Q",
        "outputId": "e7f1a0e8-f282-496c-a000-8a0f02ede013"
      },
      "execution_count": null,
      "outputs": [
        {
          "output_type": "execute_result",
          "data": {
            "text/plain": [
              "array([1.6892309e-01, 4.9693972e-01, 1.3785397e-04, 3.5602778e-05,\n",
              "       3.6263087e-10, 5.8517458e-07, 6.8286346e-07, 5.0816543e-06,\n",
              "       2.1563195e-02, 3.1239420e-01], dtype=float32)"
            ]
          },
          "metadata": {},
          "execution_count": 127
        }
      ]
    },
    {
      "cell_type": "code",
      "source": [
        "yc_train_cifar[1]"
      ],
      "metadata": {
        "colab": {
          "base_uri": "https://localhost:8080/"
        },
        "id": "kTCelVsTViEw",
        "outputId": "a108a641-e652-4374-a37d-e0c07d6eb886"
      },
      "execution_count": null,
      "outputs": [
        {
          "output_type": "execute_result",
          "data": {
            "text/plain": [
              "array([0., 0., 0., 0., 0., 0., 0., 0., 0., 1.], dtype=float32)"
            ]
          },
          "metadata": {},
          "execution_count": 131
        }
      ]
    },
    {
      "cell_type": "code",
      "source": [
        "plt.imshow(x_test_cifar[1,:,:,0])"
      ],
      "metadata": {
        "colab": {
          "base_uri": "https://localhost:8080/",
          "height": 283
        },
        "id": "hMMWNiMlVMfL",
        "outputId": "eebccd63-7f53-4296-c906-234dff9ffed9"
      },
      "execution_count": null,
      "outputs": [
        {
          "output_type": "execute_result",
          "data": {
            "text/plain": [
              "<matplotlib.image.AxesImage at 0x7f3f30ae9850>"
            ]
          },
          "metadata": {},
          "execution_count": 129
        },
        {
          "output_type": "display_data",
          "data": {
            "text/plain": [
              "<Figure size 432x288 with 1 Axes>"
            ],
            "image/png": "[encoded data removed]"
          },
          "metadata": {
            "needs_background": "light"
          }
        }
      ]
    }
  ],
  "metadata": {
    "accelerator": "GPU",
    "colab": {
      "collapsed_sections": [
        "NZn2BZP2xn3J",
        "wFeDNlsHyJO9",
        "HDnKbQ1nzS4D"
      ],
      "name": "DSIME05",
      "provenance": [],
      "authorship_tag": "ABX9TyMVsm0n8lern6DR5hpABmXk",
      "include_colab_link": true
    },
    "kernelspec": {
      "display_name": "Python 3",
      "name": "python3"
    },
    "language_info": {
      "name": "python"
    }
  },
  "nbformat": 4,
  "nbformat_minor": 0
}